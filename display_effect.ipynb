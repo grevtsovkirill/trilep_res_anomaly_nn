{
 "cells": [
  {
   "cell_type": "code",
   "execution_count": 9,
   "metadata": {},
   "outputs": [],
   "source": [
    "import pandas\n",
    "import matplotlib.pyplot as plt\n",
    "import numpy as np"
   ]
  },
  {
   "cell_type": "code",
   "execution_count": 15,
   "metadata": {},
   "outputs": [],
   "source": [
    "data=pandas.read_csv('Files/class_data.csv')\n",
    "data['t_w']=1"
   ]
  },
  {
   "cell_type": "code",
   "execution_count": 289,
   "metadata": {},
   "outputs": [],
   "source": [
    "def weight_df(df):    \n",
    "    df['lumiscale'] = df.RunYear.apply(\n",
    "               lambda x: (36074.6 if (x == 2015 or x == 2016) else 43813.7))\n",
    "    weights = df.lumiscale*df.pileupEventWeight_090*df.scale_nom*df.JVT_EventWeight*df.MV2c10_70_EventWeight*df.lepSFObjTight*df.lepSFTrigTight*df.SherpaNJetWeight\n",
    "    return weights\n"
   ]
  },
  {
   "cell_type": "code",
   "execution_count": 290,
   "metadata": {},
   "outputs": [],
   "source": [
    "#load MC samples:\n",
    "def mc_load(labels_list):\n",
    "    mc_list=[]\n",
    "    for i in labels_list:\n",
    "        name='Files/class_mc_'+i+'.csv'\n",
    "        df=pandas.read_csv(name)\n",
    "        df['label'] = i\n",
    "        df['t_w'] = weight_df(df)\n",
    "        mc_list.append(df)\n",
    "        \n",
    "    mc_df = pandas.concat(mc_list,sort=False)\n",
    "    return mc_df"
   ]
  },
  {
   "cell_type": "code",
   "execution_count": 291,
   "metadata": {},
   "outputs": [],
   "source": [
    "def plot_stack_var(df_data,df_bkg,lab_list,var,GeV):\n",
    "    stack_var=[]\n",
    "    stack_var_w=[]\n",
    "    stack_var_leg=[]    \n",
    "    for i in lab_list:\n",
    "        stack_var.append(df_bkg[var].loc[df_bkg.label==i]*GeV)\n",
    "        stack_var_w.append(df_bkg.t_w.loc[df_bkg.label==i])\n",
    "        stack_var_leg.append(i)\n",
    "\n",
    "    plt.hist( stack_var, binning[var], histtype='step',\n",
    "         weights=stack_var_w,\n",
    "         label=stack_var_leg,\n",
    "         stacked=True, \n",
    "         fill=True, \n",
    "         linewidth=2, alpha=0.8)\n",
    "    plt.hist(df_data[var]*GeV, binning[var], histtype='step',\n",
    "         label=[\"data\"],\n",
    "         stacked=False, \n",
    "         fill=False, \n",
    "         linewidth=2, alpha=0.8)\n",
    "    plt.xlabel(var,fontsize=12)\n",
    "    plt.ylabel('# Events',fontsize=12) \n",
    "    plt.legend()   "
   ]
  },
  {
   "cell_type": "code",
   "execution_count": 292,
   "metadata": {},
   "outputs": [],
   "source": [
    "# (best_Z_Mll>0) && abs(lep_ID_0)==abs(lep_ID_1) ) \n",
    "#apply additional selections\n",
    "def apply_3l_Zveto_SF_cuts(df):\n",
    "    df1=df.loc[abs(df.lep_ID_0)==abs(df.lep_ID_1)]\n",
    "    return df1"
   ]
  },
  {
   "cell_type": "code",
   "execution_count": 293,
   "metadata": {},
   "outputs": [],
   "source": [
    "labels_list=['ttZ','ttW','ttH','VV']"
   ]
  },
  {
   "cell_type": "code",
   "execution_count": 294,
   "metadata": {},
   "outputs": [],
   "source": [
    "bkg_set=mc_load(labels_list)"
   ]
  },
  {
   "cell_type": "code",
   "execution_count": 295,
   "metadata": {},
   "outputs": [],
   "source": [
    "data_sel=apply_3l_Zveto_SF_cuts(data)\n",
    "bkg_set_sel=apply_3l_Zveto_SF_cuts(bkg_set)"
   ]
  },
  {
   "cell_type": "code",
   "execution_count": 296,
   "metadata": {},
   "outputs": [
    {
     "data": {
      "image/png": "[encoded data removed]",
      "text/plain": [
       "<Figure size 432x288 with 1 Axes>"
      ]
     },
     "metadata": {
      "needs_background": "light"
     },
     "output_type": "display_data"
    }
   ],
   "source": [
    "plot_stack_var(data_sel,bkg_set_sel,labels_list,'Mll01',0.001)"
   ]
  },
  {
   "cell_type": "code",
   "execution_count": 177,
   "metadata": {},
   "outputs": [
    {
     "data": {
      "text/plain": [
       "<matplotlib.legend.Legend at 0x12ea10438>"
      ]
     },
     "execution_count": 177,
     "metadata": {},
     "output_type": "execute_result"
    },
    {
     "data": {
      "image/png": "[encoded data removed]",
      "text/plain": [
       "<Figure size 432x288 with 1 Axes>"
      ]
     },
     "metadata": {
      "needs_background": "light"
     },
     "output_type": "display_data"
    }
   ],
   "source": [
    "#hd_ttH.head()\n",
    "var='Mll01'\n",
    "scale_to_GeV=0.001\n",
    "binning = {\"DRll01\": np.linspace(-2, 6, 24),\n",
    "           \"max_eta\": np.linspace(0, 2.5, 26),\n",
    "           \"Mll01\": np.linspace(0, 200, 20)}\n",
    "plt.hist(data[var]*scale_to_GeV, binning[var], histtype='step',\n",
    "         label=[\"data\"],\n",
    "         stacked=False, \n",
    "         fill=False, \n",
    "         linewidth=2, alpha=0.8)\n",
    "\n",
    "plt.hist(ttZ[var]*scale_to_GeV, binning[var], histtype='step',\n",
    "         weights=ttZ.t_w,\n",
    "         label=[\"ttZ\"],\n",
    "         stacked=False, \n",
    "         fill=True, \n",
    "         linewidth=2, alpha=0.8)\n",
    "plt.hist(ttW[var]*scale_to_GeV, binning[var], histtype='step',\n",
    "         weights=ttW.t_w,\n",
    "         label=[\"ttW\"],\n",
    "         stacked=False,\n",
    "         fill=True, \n",
    "         linewidth=2, alpha=0.8)\n",
    "plt.xlabel(var,fontsize=12)\n",
    "plt.ylabel('# Events',fontsize=12)\n",
    "#plt.yscale('log')\n",
    "plt.legend()"
   ]
  },
  {
   "cell_type": "code",
   "execution_count": 301,
   "metadata": {},
   "outputs": [
    {
     "data": {
      "text/plain": [
       "<matplotlib.legend.Legend at 0x135ab3e80>"
      ]
     },
     "execution_count": 301,
     "metadata": {},
     "output_type": "execute_result"
    },
    {
     "data": {
      "image/png": "[encoded data removed]",
      "text/plain": [
       "<Figure size 432x288 with 1 Axes>"
      ]
     },
     "metadata": {
      "needs_background": "light"
     },
     "output_type": "display_data"
    }
   ],
   "source": [
    "plt.hist(data[var]*scale_to_GeV, binning[var], histtype='step',\n",
    "         label=[\"data\"],\n",
    "         stacked=False, \n",
    "         fill=False, \n",
    "         linewidth=2, alpha=0.8)\n",
    "plt.hist(bkg_set[var]*0.001, binning[var], histtype='step',\n",
    "         label=[\"bkgs\"],\n",
    "         weights=bkg_set.t_w,\n",
    "         stacked=False, \n",
    "         fill=False, \n",
    "         linewidth=2, alpha=0.8)\n",
    "plt.xlabel(var,fontsize=12)\n",
    "plt.ylabel('# Events',fontsize=12)\n",
    "#plt.yscale('log')\n",
    "plt.legend()   "
   ]
  },
  {
   "cell_type": "code",
   "execution_count": 224,
   "metadata": {},
   "outputs": [
    {
     "data": {
      "text/plain": [
       "<matplotlib.legend.Legend at 0x13038fd68>"
      ]
     },
     "execution_count": 224,
     "metadata": {},
     "output_type": "execute_result"
    },
    {
     "data": {
      "image/png": "[encoded data removed]",
      "text/plain": [
       "<Figure size 432x288 with 1 Axes>"
      ]
     },
     "metadata": {
      "needs_background": "light"
     },
     "output_type": "display_data"
    }
   ],
   "source": [
    "plt.hist(data[var]*scale_to_GeV, binning[var], histtype='step',\n",
    "         label=[\"data\"],\n",
    "         stacked=False, \n",
    "         fill=False, \n",
    "         linewidth=2, alpha=0.8)\n",
    "plt.hist([ttZ[var]*scale_to_GeV,ttW[var]*scale_to_GeV], binning[var], histtype='step',\n",
    "         weights=[ttZ.t_w,ttW.t_w],\n",
    "         label=[\"ttZ\",\"ttW\"],\n",
    "         stacked=True, \n",
    "         fill=True, \n",
    "         linewidth=2, alpha=0.8)\n",
    "plt.hist(bkg_res[var]*scale_to_GeV, binning[var], histtype='step',\n",
    "         label=[\"bkgs\"],\n",
    "         weights=bkg_res.t_w,\n",
    "         stacked=False, \n",
    "         fill=False, \n",
    "         linewidth=2, alpha=0.8)\n",
    "plt.xlabel(var,fontsize=12)\n",
    "plt.ylabel('# Events',fontsize=12)\n",
    "#plt.yscale('log')\n",
    "plt.legend()        "
   ]
  }
 ],
 "metadata": {
  "kernelspec": {
   "display_name": "Python 3",
   "language": "python",
   "name": "python3"
  },
  "language_info": {
   "codemirror_mode": {
    "name": "ipython",
    "version": 3
   },
   "file_extension": ".py",
   "mimetype": "text/x-python",
   "name": "python",
   "nbconvert_exporter": "python",
   "pygments_lexer": "ipython3",
   "version": "3.6.7"
  }
 },
 "nbformat": 4,
 "nbformat_minor": 2
}
