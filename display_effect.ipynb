{
 "cells": [
  {
   "cell_type": "code",
   "execution_count": 1,
   "metadata": {},
   "outputs": [],
   "source": [
    "import pandas\n",
    "import matplotlib.pyplot as plt\n",
    "import numpy as np"
   ]
  },
  {
   "cell_type": "code",
   "execution_count": 153,
   "metadata": {},
   "outputs": [],
   "source": [
    "data=pandas.read_csv('Files/class_data.csv')\n",
    "data['label']='data'\n",
    "data['t_w']=1\n",
    "data['ltype']=1"
   ]
  },
  {
   "cell_type": "code",
   "execution_count": 3,
   "metadata": {},
   "outputs": [],
   "source": [
    "def weight_df(df):    \n",
    "    df['lumiscale'] = df.RunYear.apply(\n",
    "               lambda x: (36074.6 if (x == 2015 or x == 2016) else 43813.7))\n",
    "    weights = df.lumiscale*df.pileupEventWeight_090*df.scale_nom*df.JVT_EventWeight*df.MV2c10_70_EventWeight*df.lepSFObjTight*df.lepSFTrigTight*df.SherpaNJetWeight\n",
    "    return weights\n"
   ]
  },
  {
   "cell_type": "code",
   "execution_count": 154,
   "metadata": {},
   "outputs": [],
   "source": [
    "#load MC samples:\n",
    "def mc_load(labels_list):\n",
    "    mc_list=[]\n",
    "    for i in labels_list:\n",
    "        name='Files/class_mc_'+i+'.csv'\n",
    "        df=pandas.read_csv(name)\n",
    "        df['label'] = i\n",
    "        if i == 'fakes':\n",
    "            df['t_w'] = 1\n",
    "        else:\n",
    "            df['t_w'] = weight_df(df)\n",
    "        df['ltype']=0\n",
    "        mc_list.append(df)\n",
    "        \n",
    "    mc_df = pandas.concat(mc_list,sort=False)\n",
    "    return mc_df"
   ]
  },
  {
   "cell_type": "code",
   "execution_count": 5,
   "metadata": {},
   "outputs": [],
   "source": [
    "def plot_stack_var(df_data,df_bkg,lab_list,var,GeV):\n",
    "    stack_var=[]\n",
    "    stack_var_w=[]\n",
    "    stack_var_leg=[]    \n",
    "    for i in lab_list:\n",
    "        stack_var.append(df_bkg[var].loc[df_bkg.label==i]*GeV)\n",
    "        stack_var_w.append(df_bkg.t_w.loc[df_bkg.label==i])\n",
    "        stack_var_leg.append(i)\n",
    "\n",
    "    plt.hist( stack_var, binning[var], histtype='step',\n",
    "         weights=stack_var_w,\n",
    "         label=stack_var_leg,\n",
    "         stacked=True, \n",
    "         fill=True, \n",
    "         linewidth=2, alpha=0.8)\n",
    "    plt.hist(df_data[var]*GeV, binning[var], histtype='step',\n",
    "         label=[\"data\"],\n",
    "         stacked=False, \n",
    "         fill=False, \n",
    "         color='k',\n",
    "         linewidth=2, alpha=0.8)\n",
    "    plt.xlabel(var,fontsize=12)\n",
    "    plt.ylabel('# Events',fontsize=12) \n",
    "    plt.legend()   "
   ]
  },
  {
   "cell_type": "code",
   "execution_count": 6,
   "metadata": {},
   "outputs": [],
   "source": [
    "# (best_Z_Mll>0) && abs(lep_ID_0)==abs(lep_ID_1) ) \n",
    "#apply additional selections\n",
    "def apply_3l_Zveto_SF_cuts(df):\n",
    "    df1=df.loc[abs(df.lep_ID_0)==abs(df.lep_ID_1)]\n",
    "    df2=df1.loc[df1.best_Z_Mll>0]    \n",
    "    return df2"
   ]
  },
  {
   "cell_type": "code",
   "execution_count": 7,
   "metadata": {},
   "outputs": [],
   "source": [
    "scale_to_GeV=0.001\n",
    "binning = {\"DRll01\": np.linspace(-2, 6, 24),\n",
    "           \"max_eta\": np.linspace(0, 2.5, 26),\n",
    "           \"Mll01\": np.linspace(0, 200, 25),\n",
    "          }\n",
    "var='Mll01'"
   ]
  },
  {
   "cell_type": "code",
   "execution_count": 8,
   "metadata": {},
   "outputs": [],
   "source": [
    "labels_list=['ttZ','ttW','ttH','VV','fakes','Others']"
   ]
  },
  {
   "cell_type": "code",
   "execution_count": 155,
   "metadata": {},
   "outputs": [],
   "source": [
    "bkg_set=mc_load(labels_list)"
   ]
  },
  {
   "cell_type": "code",
   "execution_count": 156,
   "metadata": {},
   "outputs": [],
   "source": [
    "data_sel=apply_3l_Zveto_SF_cuts(data)\n",
    "bkg_set_sel=apply_3l_Zveto_SF_cuts(bkg_set)"
   ]
  },
  {
   "cell_type": "code",
   "execution_count": 157,
   "metadata": {},
   "outputs": [
    {
     "data": {
      "image/png": "[encoded data removed]",
      "text/plain": [
       "<Figure size 432x288 with 1 Axes>"
      ]
     },
     "metadata": {
      "needs_background": "light"
     },
     "output_type": "display_data"
    }
   ],
   "source": [
    "plot_stack_var(data_sel,bkg_set_sel,labels_list,'Mll01',0.001)"
   ]
  },
  {
   "cell_type": "code",
   "execution_count": 158,
   "metadata": {},
   "outputs": [
    {
     "data": {
      "text/plain": [
       "<matplotlib.legend.Legend at 0x131a1b4e0>"
      ]
     },
     "execution_count": 158,
     "metadata": {},
     "output_type": "execute_result"
    },
    {
     "data": {
      "image/png": "[encoded data removed]",
      "text/plain": [
       "<Figure size 432x288 with 1 Axes>"
      ]
     },
     "metadata": {
      "needs_background": "light"
     },
     "output_type": "display_data"
    }
   ],
   "source": [
    "plt.hist(data_sel[var]*scale_to_GeV, binning[var], histtype='step',\n",
    "         label=[\"data\"],\n",
    "         stacked=False, \n",
    "         fill=False, \n",
    "         linewidth=2, alpha=0.8)\n",
    "plt.hist(bkg_set_sel[var]*0.001, binning[var], histtype='step',\n",
    "         label=[\"bkgs\"],\n",
    "         weights=bkg_set_sel.t_w,\n",
    "         stacked=False, \n",
    "         fill=False, \n",
    "         linewidth=2, alpha=0.8)\n",
    "plt.xlabel(var,fontsize=12)\n",
    "plt.ylabel('# Events',fontsize=12)\n",
    "#plt.yscale('log')\n",
    "plt.legend()   "
   ]
  },
  {
   "cell_type": "code",
   "execution_count": 159,
   "metadata": {},
   "outputs": [],
   "source": [
    "def split_by_Bjet(df):\n",
    "    df_1b=df.loc[df.nJets_OR_MV2c10_70==1]\n",
    "    df_2b=df.loc[df.nJets_OR_MV2c10_70>=2]    \n",
    "    return df_1b,df_2b"
   ]
  },
  {
   "cell_type": "code",
   "execution_count": 160,
   "metadata": {},
   "outputs": [],
   "source": [
    "def ovr_slot(df_d,df_b,var='Mll01',GeV=0.001,fig_size=(10, 5)):\n",
    "    f, ax = plt.subplots(figsize=fig_size)\n",
    "    ax.hist(df_d[var]*GeV, binning[var], histtype='step',\n",
    "         label=[\"data\"],\n",
    "         stacked=False, \n",
    "         fill=False, \n",
    "         linewidth=2, alpha=0.8)\n",
    "    ax.hist(df_b[var]*GeV, binning[var], histtype='step',\n",
    "         label=[\"bkgs\"],\n",
    "         weights=df_b.t_w,\n",
    "         stacked=False, \n",
    "         fill=False, \n",
    "         linewidth=2, alpha=0.8)\n",
    "    ax.set_xlabel(var,fontsize=12)\n",
    "    ax.set_ylabel('# Events',fontsize=12)    \n",
    "    ax.legend()   \n",
    "    return ax\n"
   ]
  },
  {
   "cell_type": "code",
   "execution_count": 161,
   "metadata": {},
   "outputs": [
    {
     "data": {
      "text/plain": [
       "<matplotlib.axes._subplots.AxesSubplot at 0x114f32ac8>"
      ]
     },
     "execution_count": 161,
     "metadata": {},
     "output_type": "execute_result"
    },
    {
     "data": {
      "image/png": "[encoded data removed]",
      "text/plain": [
       "<Figure size 720x360 with 1 Axes>"
      ]
     },
     "metadata": {
      "needs_background": "light"
     },
     "output_type": "display_data"
    }
   ],
   "source": [
    "ovr_slot(data_sel,bkg_set_sel)"
   ]
  },
  {
   "cell_type": "code",
   "execution_count": 162,
   "metadata": {},
   "outputs": [],
   "source": [
    "d_1, d_2 = split_by_Bjet(data_sel)"
   ]
  },
  {
   "cell_type": "code",
   "execution_count": 163,
   "metadata": {},
   "outputs": [],
   "source": [
    "b_1, b_2 = split_by_Bjet(bkg_set_sel)"
   ]
  },
  {
   "cell_type": "code",
   "execution_count": 164,
   "metadata": {},
   "outputs": [
    {
     "data": {
      "text/plain": [
       "<matplotlib.axes._subplots.AxesSubplot at 0x114d6bf28>"
      ]
     },
     "execution_count": 164,
     "metadata": {},
     "output_type": "execute_result"
    },
    {
     "data": {
      "image/png": "[encoded data removed]",
      "text/plain": [
       "<Figure size 720x360 with 1 Axes>"
      ]
     },
     "metadata": {
      "needs_background": "light"
     },
     "output_type": "display_data"
    }
   ],
   "source": [
    "ovr_slot(d_1,b_1)"
   ]
  },
  {
   "cell_type": "code",
   "execution_count": 165,
   "metadata": {},
   "outputs": [
    {
     "data": {
      "text/plain": [
       "<matplotlib.axes._subplots.AxesSubplot at 0x1117a8160>"
      ]
     },
     "execution_count": 165,
     "metadata": {},
     "output_type": "execute_result"
    },
    {
     "data": {
      "image/png": "[encoded data removed]",
      "text/plain": [
       "<Figure size 720x360 with 1 Axes>"
      ]
     },
     "metadata": {
      "needs_background": "light"
     },
     "output_type": "display_data"
    }
   ],
   "source": [
    "ovr_slot(d_2,b_2)"
   ]
  },
  {
   "cell_type": "code",
   "execution_count": 166,
   "metadata": {},
   "outputs": [
    {
     "data": {
      "text/plain": [
       "1219"
      ]
     },
     "execution_count": 166,
     "metadata": {},
     "output_type": "execute_result"
    }
   ],
   "source": [
    "feature = bkg_set.columns\n",
    "feature.size"
   ]
  },
  {
   "cell_type": "code",
   "execution_count": 167,
   "metadata": {},
   "outputs": [
    {
     "data": {
      "text/plain": [
       "'entry'"
      ]
     },
     "execution_count": 167,
     "metadata": {},
     "output_type": "execute_result"
    }
   ],
   "source": [
    "feature[0]\n",
    "#.str.find('UP')"
   ]
  },
  {
   "cell_type": "code",
   "execution_count": null,
   "metadata": {},
   "outputs": [],
   "source": []
  },
  {
   "cell_type": "code",
   "execution_count": 168,
   "metadata": {},
   "outputs": [
    {
     "data": {
      "text/plain": [
       "['entry',\n",
       " 'is1L2Tau',\n",
       " 'is2L2Tau',\n",
       " 'is2LSS0Tau',\n",
       " 'pass_tight_2L',\n",
       " 'pass_SS_2L',\n",
       " 'is2LSS1Tau',\n",
       " 'is2LOS1Tau',\n",
       " 'is3L',\n",
       " 'is3L1Tau',\n",
       " 'is4L',\n",
       " 'is2lLowNJet0Tau',\n",
       " 'is2LSS0Tau_SR_Relaxed',\n",
       " 'is2LSS1Tau_SR_Relaxed',\n",
       " 'is3L0Tau_SR_Relaxed',\n",
       " 'is3L0Tau_SR_Relaxed3j',\n",
       " 'is4L_SR_VV_Relaxed',\n",
       " 'is4L_SR_ttV_Relaxed',\n",
       " 'is4L_SR_ttV_Zenriched',\n",
       " 'is3L0Tau_CR_ttbar_Relaxed',\n",
       " 'is3L0Tau_CR_VV_Relaxed',\n",
       " 'is3L0Tau_CR_ttW_Relaxed',\n",
       " 'is2L_VR_ttW_ICHEP',\n",
       " 'is2L_VR_ttbarFakes_ICHEP',\n",
       " 'is4lCRttZRelaxed',\n",
       " 'is2LOS1Tau_CR_ttbar',\n",
       " 'is2LOS1Tau_CR_ttZ',\n",
       " 'is2LOS1Tau_CR_W',\n",
       " 'is3L1Tau_VR',\n",
       " 'is2lOS0TauBaseline',\n",
       " 'is2lOS0TauBaseline_ee',\n",
       " 'is2lOS0TauBaseline_mm',\n",
       " 'is2lOS0TauBaseline_OF',\n",
       " 'is2lOS0TauBaseline_me',\n",
       " 'is2lOS0TauBaseline_em',\n",
       " 'is2lSS0TauBaseline',\n",
       " 'is2lSS0TauBaseline_ee',\n",
       " 'is2lSS0TauBaseline_mm',\n",
       " 'is2lSS0TauBaseline_OF',\n",
       " 'is2lSS0TauBaseline_me',\n",
       " 'is2lSS0TauBaseline_em',\n",
       " 'is2lOS1TauBaseline',\n",
       " 'is2lOS1TauBaseline_ee',\n",
       " 'is2lOS1TauBaseline_mm',\n",
       " 'is2lOS1TauBaseline_OF',\n",
       " 'is2lOS1TauBaseline_me',\n",
       " 'is2lOS1TauBaseline_em',\n",
       " 'is2lSS1TauBaseline',\n",
       " 'is2lSS1TauBaseline_ee',\n",
       " 'is2lSS1TauBaseline_mm',\n",
       " 'is2lSS1TauBaseline_OF',\n",
       " 'is2lSS1TauBaseline_me',\n",
       " 'is2lSS1TauBaseline_em',\n",
       " 'is3lBaseline',\n",
       " 'is3lBaselineNoZVeto',\n",
       " 'is2lss1tau_regionB',\n",
       " 'is2lss1tau_regionC',\n",
       " 'is2lss1tau_regionD',\n",
       " 'is2lss1tau_valRegion',\n",
       " 'isGNv02',\n",
       " 'minOSMll',\n",
       " 'minOSSFMll',\n",
       " 'jet_flvWtOrdr_0_pt',\n",
       " 'jet_flvWtOrdr_0_eta',\n",
       " 'jet_flvWtOrdr_0_phi',\n",
       " 'jet_flvWtOrdr_0_E',\n",
       " 'jet_flvWtOrdr_0_mv2c10',\n",
       " 'jet_flvWtOrdr_1_pt',\n",
       " 'jet_flvWtOrdr_1_eta',\n",
       " 'jet_flvWtOrdr_1_phi',\n",
       " 'jet_flvWtOrdr_1_E',\n",
       " 'jet_flvWtOrdr_1_mv2c10',\n",
       " 'jet_flvWtOrdr_2_pt',\n",
       " 'jet_flvWtOrdr_2_eta',\n",
       " 'jet_flvWtOrdr_2_phi',\n",
       " 'jet_flvWtOrdr_2_E',\n",
       " 'jet_flvWtOrdr_2_mv2c10',\n",
       " 'DEtall01',\n",
       " 'DEtall02',\n",
       " 'DEtall12',\n",
       " 'lep_flavour',\n",
       " 'jet_flavor',\n",
       " 'total_charge_2lSS',\n",
       " 'isExtConv',\n",
       " 'isIntConv',\n",
       " 'max_eta',\n",
       " 'SDRll',\n",
       " 'DeltaR_max_lep',\n",
       " 'DPhi_max_lep_met',\n",
       " 'DeltaR_min_lep_jet',\n",
       " 'minDeltaR_LJ_0',\n",
       " 'minDeltaR_LJ_1',\n",
       " 'minDeltaR_LJ_2',\n",
       " 'Meff',\n",
       " 'Mjj_closeW',\n",
       " 'DRlb_h',\n",
       " 'ptlb_h',\n",
       " 'DeltaRLeadjets',\n",
       " 'jet1pTbin',\n",
       " 'jet2pTbin',\n",
       " 'jet3pTbin',\n",
       " 'jet3etabin',\n",
       " 'jet1MV2c10_bin',\n",
       " 'jet2MV2c10_bin',\n",
       " 'MvisH',\n",
       " 'MvisnonH',\n",
       " 'lep_PtVarCone20Rel_1',\n",
       " 'DeltaRLeadLepClosestJet',\n",
       " 'Ml2l3met',\n",
       " 'FSF_4L_tot',\n",
       " 'FSF_4L_tot_up',\n",
       " 'FSF_4L_tot_down',\n",
       " 'FSF_category',\n",
       " 'FSF_4L_e_L',\n",
       " 'FSF_4L_e_H',\n",
       " 'FSF_4L_m',\n",
       " 'jet2_pt',\n",
       " 'jet2_eta',\n",
       " 'jet2_phi',\n",
       " 'jet3_pt',\n",
       " 'jet3_eta',\n",
       " 'jet3_phi',\n",
       " 'jet0_tagWeightBin',\n",
       " 'jet1_tagWeightBin',\n",
       " 'jet2_tagWeightBin',\n",
       " 'jet3_tagWeightBin',\n",
       " 'N_el',\n",
       " 'N_mu',\n",
       " 'tempDPl0t',\n",
       " 'tempDPl1t',\n",
       " 'tempDP2l',\n",
       " 'tempDPlt_closest',\n",
       " 'tempDPlt_furthest',\n",
       " 'DeltaRSubLepClosestJet',\n",
       " 'SignProduct2sslt',\n",
       " 'TransverseMassLeadLepMET',\n",
       " 'LD_HTmiss_ETmiss',\n",
       " 'Mjj_nonb',\n",
       " 'Mtop',\n",
       " 'MtopW',\n",
       " 'temptopoetcone20overpTlep0',\n",
       " 'temptopoetcone20overpTlep1',\n",
       " 'tempptvarcone20overpTlep0',\n",
       " 'tempptvarcone20overpTlep1',\n",
       " 'L2SS1Tau_Category',\n",
       " 'lep_isAntiTight_0',\n",
       " 'lep_isAntiTight_1',\n",
       " 'tau_tight_0',\n",
       " 'tau_tight_1',\n",
       " 'tau_btag70_0',\n",
       " 'tau_btag70_1',\n",
       " 'tau_truth_0',\n",
       " 'tau_truth_1',\n",
       " 'htjets_1l2tau',\n",
       " 'jjdrmin_1l2tau',\n",
       " 'mtautau_1l2tau',\n",
       " 'njets_1l2tau',\n",
       " 'nbjets_1l2tau',\n",
       " 'm_minlepb_2l2tau',\n",
       " 'dR_minlepb_tautau_2l2tau',\n",
       " 'm_tautau_2l2tau',\n",
       " 'dR_ll_2l2tau',\n",
       " 'dR_ll_tautau_2l2tau',\n",
       " 'pt_sum_bjets_2l2tau',\n",
       " 'DRlj00',\n",
       " 'DRjj01',\n",
       " 'min_DRl0j',\n",
       " 'min_DRl1j',\n",
       " 'min_DRl2j',\n",
       " 'min_DRl0b',\n",
       " 'min_DRl1b',\n",
       " 'min_DRl2b',\n",
       " 'min_DRlj_new',\n",
       " 'nJets_OR_T_overflow',\n",
       " 'nJets_OR_T_MV2c10_70_overflow',\n",
       " 'DPhij0MET',\n",
       " 'lead_BjetPt',\n",
       " 'lead_jet_sumBEff',\n",
       " 'sublead_jet_sumBEff',\n",
       " 'lead_jet_pass_FixedCutBEff_70',\n",
       " 'sublead_jet_pass_FixedCutBEff_70',\n",
       " 'lead_jet_is_lead_antitag',\n",
       " 'lead_jet_is_lead_tag',\n",
       " 'lep_Pt_1_new',\n",
       " 'lep_Pt_2_new',\n",
       " 'lep_ID_1_new',\n",
       " 'lep_ID_2_new',\n",
       " 'lep_isPrompt_1_new',\n",
       " 'lep_isPrompt_2_new',\n",
       " 'lep_truthOrigin_1_new',\n",
       " 'lep_truthOrigin_2_new',\n",
       " 'lep_truthParentPdgId_1_new',\n",
       " 'lep_truthParentType_1_new',\n",
       " 'lep_isQMisID_1_new',\n",
       " 'lep_isQMisID_2_new',\n",
       " 'lep_Eta_1_new',\n",
       " 'lep_Eta_2_new',\n",
       " 'lep_Phi_1_new',\n",
       " 'lep_Phi_2_new',\n",
       " 'lep_isolationFixedCutLoose_1_new',\n",
       " 'lep_isolationFixedCutLoose_2_new',\n",
       " 'lep_promptLeptonVeto_TagWeight_1_new',\n",
       " 'lep_promptLeptonVeto_TagWeight_2_new',\n",
       " 'lep_isTightLH_1_new',\n",
       " 'lep_isTightLH_2_new',\n",
       " 'lep_chargeIDBDTTight_1_new',\n",
       " 'lep_chargeIDBDTTight_2_new',\n",
       " 'lep_ambiguityType_1_new',\n",
       " 'lep_ambiguityType_2_new',\n",
       " 'lep_isMedium_1_new',\n",
       " 'lep_isMedium_2_new',\n",
       " 'EventWeight',\n",
       " 'lep_isTightSelected_0',\n",
       " 'lep_isTightSelected_1',\n",
       " 'lep_isTightSelected_2',\n",
       " 'lep_isTightSelected_3',\n",
       " 'lep_isTightSelected_2LOS1Tau_0',\n",
       " 'lep_isTightSelected_2LOS1Tau_1',\n",
       " 'lep_isTightSelectedAndPt_0',\n",
       " 'lep_isTightSelectedAndPt_1',\n",
       " 'lep_isTightSelectedAndPt_2',\n",
       " 'lep_isTightSelectedAndPt_3',\n",
       " 'lep_isTightSelectedAndPt_2LOS1Tau_0',\n",
       " 'lep_isTightSelectedAndPt_2LOS1Tau_1',\n",
       " 'MVA2lSSMarseille_weight_ttV',\n",
       " 'MVA2lSSMarseille_weight_ttbar',\n",
       " 'MVA2lSSMarseille_weight_ttV_2',\n",
       " 'MVA2lSSMarseille_weight_ttbar_2',\n",
       " 'MVA2lSS1tau_weight_random_nottbar',\n",
       " 'MVA2lSS1tau_weight_CT_nottbar',\n",
       " 'MVA2lOS1tau_weight',\n",
       " 'SumPtBJet',\n",
       " 'SumPtJet',\n",
       " 'SumPtLep',\n",
       " 'DRlj',\n",
       " 'DRlb',\n",
       " 'DRjb',\n",
       " 'DRl0tau',\n",
       " 'DRl1tau',\n",
       " 'MVA3lCERN_weight_ttH',\n",
       " 'MVA3lCERN_weight_ttW',\n",
       " 'MVA3lCERN_weight_ttZ',\n",
       " 'MVA3lCERN_weight_VV',\n",
       " 'MVA3lCERN_weight_ttbar',\n",
       " 'MVA3lCERN_category',\n",
       " 'MVA4lBonn_weight_ttZ',\n",
       " 'fourLep_PME',\n",
       " 'MVA1l2tau_weight',\n",
       " 'MVA2l2tau_weight',\n",
       " 'D_PME',\n",
       " 'BDT_out',\n",
       " 'mlb_h',\n",
       " 'mOSl_h',\n",
       " 'averageMW',\n",
       " 'CRB1_2lSStau_FF_Fake',\n",
       " 'CRB1_2lSStau_FF_Prompt',\n",
       " 'CRB2_2lSStau_FF_Fake',\n",
       " 'CRB2_2lSStau_FF_RealTau',\n",
       " 'CRB3_2lSStau_FF_Fake',\n",
       " 'CRB3_2lSStau_FF_RealTau',\n",
       " 'CRB3_2lSStau_FF_Prompt',\n",
       " 'CRB1_2lSStau_FF_EventWeight',\n",
       " 'CRB1_2lSStau_FF_elStat_Bin1Up_EventWeight',\n",
       " 'CRB1_2lSStau_FF_elStat_Bin1Dn_EventWeight',\n",
       " 'CRB1_2lSStau_FF_elStat_Bin2Up_EventWeight',\n",
       " 'CRB1_2lSStau_FF_elStat_Bin2Dn_EventWeight',\n",
       " 'CRB1_2lSStau_FF_elStat_Bin3Up_EventWeight',\n",
       " 'CRB1_2lSStau_FF_elStat_Bin3Dn_EventWeight',\n",
       " 'CRB1_2lSStau_FF_elStat_Bin4Up_EventWeight',\n",
       " 'CRB1_2lSStau_FF_elStat_Bin4Dn_EventWeight',\n",
       " 'CRB1_2lSStau_FF_elStat_Bin5Up_EventWeight',\n",
       " 'CRB1_2lSStau_FF_elStat_Bin5Dn_EventWeight',\n",
       " 'CRB1_2lSStau_FF_muStat_Bin1Up_EventWeight',\n",
       " 'CRB1_2lSStau_FF_muStat_Bin1Dn_EventWeight',\n",
       " 'CRB1_2lSStau_FF_muStat_Bin2Up_EventWeight',\n",
       " 'CRB1_2lSStau_FF_muStat_Bin2Dn_EventWeight',\n",
       " 'CRB1_2lSStau_FF_muStat_Bin3Up_EventWeight',\n",
       " 'CRB1_2lSStau_FF_muStat_Bin3Dn_EventWeight',\n",
       " 'CRB1_2lSStau_FF_muStat_Bin4Up_EventWeight',\n",
       " 'CRB1_2lSStau_FF_muStat_Bin4Dn_EventWeight',\n",
       " 'CRB1_2lSStau_FF_muStat_Bin5Up_EventWeight',\n",
       " 'CRB1_2lSStau_FF_muStat_Bin5Dn_EventWeight',\n",
       " 'CRB1_2lSStau_FF_ttwUp_EventWeight',\n",
       " 'CRB1_2lSStau_FF_ttwDn_EventWeight',\n",
       " 'CRB1_2lSStau_FF_ttzUp_EventWeight',\n",
       " 'CRB1_2lSStau_FF_ttzDn_EventWeight',\n",
       " 'CRB1_2lSStau_FF_vvUp_EventWeight',\n",
       " 'CRB1_2lSStau_FF_vvDn_EventWeight',\n",
       " 'CRB1_2lSStau_FF_rareUp_EventWeight',\n",
       " 'CRB1_2lSStau_FF_rareDn_EventWeight',\n",
       " 'CRB1_2lSStau_FF_tthUp_EventWeight',\n",
       " 'CRB1_2lSStau_FF_tthDn_EventWeight',\n",
       " 'CRB1_2lSStau_FF_QMisIdUp_EventWeight',\n",
       " 'CRB1_2lSStau_FF_QMisIdDn_EventWeight',\n",
       " 'CRB2_2lSStau_FF_EventWeight',\n",
       " 'CRB2_2lSStau_FF_RealtauUp_EventWeight',\n",
       " 'CRB2_2lSStau_FF_RealtauDn_EventWeight',\n",
       " 'CRB2_2lSStau_FF_tthUp_EventWeight',\n",
       " 'CRB2_2lSStau_FF_tthDn_EventWeight',\n",
       " 'CRB2_2lSStau_FF_QMisIdUp_EventWeight',\n",
       " 'CRB2_2lSStau_FF_QMisIdDn_EventWeight',\n",
       " 'CRB3_2lSStau_FF_EventWeight',\n",
       " 'CRB3_2lSStau_FF_RealtauUp_EventWeight',\n",
       " 'CRB3_2lSStau_FF_RealtauDn_EventWeight',\n",
       " 'CRB3_2lSStau_FF_ttwUp_EventWeight',\n",
       " 'CRB3_2lSStau_FF_ttwDn_EventWeight',\n",
       " 'CRB3_2lSStau_FF_ttzUp_EventWeight',\n",
       " 'CRB3_2lSStau_FF_ttzDn_EventWeight',\n",
       " 'CRB3_2lSStau_FF_vvUp_EventWeight',\n",
       " 'CRB3_2lSStau_FF_vvDn_EventWeight',\n",
       " 'CRB3_2lSStau_FF_rareUp_EventWeight',\n",
       " 'CRB3_2lSStau_FF_rareDn_EventWeight',\n",
       " 'CRB3_2lSStau_FF_tthUp_EventWeight',\n",
       " 'CRB3_2lSStau_FF_tthDn_EventWeight',\n",
       " 'CRB3_2lSStau_FF_QMisIdUp_EventWeight',\n",
       " 'CRB3_2lSStau_FF_QMisIdDn_EventWeight',\n",
       " 'isttH',\n",
       " 'isttZ',\n",
       " 'isttW',\n",
       " 'isVV',\n",
       " 'istZ',\n",
       " 'isWtZ',\n",
       " 'istHjb',\n",
       " 'isWtH',\n",
       " 'isttWW',\n",
       " 'isVH',\n",
       " 'isVVV',\n",
       " 'is3Tops',\n",
       " 'is4Tops',\n",
       " 'isttbar',\n",
       " 'isttll',\n",
       " 'israreTop',\n",
       " 'isttGamma',\n",
       " 'isttbarDilep',\n",
       " 'passTrigger',\n",
       " 'scale_nom',\n",
       " 'scale_varA14up',\n",
       " 'scale_varA14down',\n",
       " 'scale_varRup',\n",
       " 'scale_varRdown',\n",
       " 'scale_varFup',\n",
       " 'scale_varFdown',\n",
       " 'scale_varRFup',\n",
       " 'scale_varRFdown',\n",
       " 'pileupEventWeight_UP',\n",
       " 'pileupEventWeight_DOWN',\n",
       " 'JVT_EventWeight_UP',\n",
       " 'JVT_EventWeight_DOWN',\n",
       " 'bTagSF_weight_MV2c10_FixedCutBEff_70',\n",
       " 'bTagSF_weight_MV2c10_FixedCutBEff_70_B0_up',\n",
       " 'bTagSF_weight_MV2c10_FixedCutBEff_70_B0_down',\n",
       " 'bTagSF_weight_MV2c10_FixedCutBEff_70_B1_up',\n",
       " 'bTagSF_weight_MV2c10_FixedCutBEff_70_B1_down',\n",
       " 'bTagSF_weight_MV2c10_FixedCutBEff_70_B2_up',\n",
       " 'bTagSF_weight_MV2c10_FixedCutBEff_70_B2_down',\n",
       " 'bTagSF_weight_MV2c10_FixedCutBEff_70_B3_up',\n",
       " 'bTagSF_weight_MV2c10_FixedCutBEff_70_B3_down',\n",
       " 'bTagSF_weight_MV2c10_FixedCutBEff_70_B4_up',\n",
       " 'bTagSF_weight_MV2c10_FixedCutBEff_70_B4_down',\n",
       " 'bTagSF_weight_MV2c10_FixedCutBEff_70_B5_up',\n",
       " 'bTagSF_weight_MV2c10_FixedCutBEff_70_B5_down',\n",
       " 'bTagSF_weight_MV2c10_FixedCutBEff_70_B6_up',\n",
       " 'bTagSF_weight_MV2c10_FixedCutBEff_70_B6_down',\n",
       " 'bTagSF_weight_MV2c10_FixedCutBEff_70_B7_up',\n",
       " 'bTagSF_weight_MV2c10_FixedCutBEff_70_B7_down',\n",
       " 'bTagSF_weight_MV2c10_FixedCutBEff_70_B8_up',\n",
       " 'bTagSF_weight_MV2c10_FixedCutBEff_70_B8_down',\n",
       " 'bTagSF_weight_MV2c10_FixedCutBEff_70_C0_up',\n",
       " 'bTagSF_weight_MV2c10_FixedCutBEff_70_C0_down',\n",
       " 'bTagSF_weight_MV2c10_FixedCutBEff_70_C1_up',\n",
       " 'bTagSF_weight_MV2c10_FixedCutBEff_70_C1_down',\n",
       " 'bTagSF_weight_MV2c10_FixedCutBEff_70_C2_up',\n",
       " 'bTagSF_weight_MV2c10_FixedCutBEff_70_C2_down',\n",
       " 'bTagSF_weight_MV2c10_FixedCutBEff_70_Light0_up',\n",
       " 'bTagSF_weight_MV2c10_FixedCutBEff_70_Light0_down',\n",
       " 'bTagSF_weight_MV2c10_FixedCutBEff_70_Light1_up',\n",
       " 'bTagSF_weight_MV2c10_FixedCutBEff_70_Light1_down',\n",
       " 'bTagSF_weight_MV2c10_FixedCutBEff_70_Light2_up',\n",
       " 'bTagSF_weight_MV2c10_FixedCutBEff_70_Light2_down',\n",
       " 'bTagSF_weight_MV2c10_FixedCutBEff_70_Light3_up',\n",
       " 'bTagSF_weight_MV2c10_FixedCutBEff_70_Light3_down',\n",
       " 'bTagSF_weight_MV2c10_FixedCutBEff_70_extrapolation_up',\n",
       " 'bTagSF_weight_MV2c10_FixedCutBEff_70_extrapolation_down',\n",
       " 'bTagSF_weight_MV2c10_FixedCutBEff_70_extrapolation_from_charm_up',\n",
       " 'bTagSF_weight_MV2c10_FixedCutBEff_70_extrapolation_from_charm_down',\n",
       " 'lepSFTrigLoose_MU_SF_Trigger_SYST_UP',\n",
       " 'lepSFTrigTight_MU_SF_Trigger_SYST_UP',\n",
       " 'lepSFTrigTightLoose_MU_SF_Trigger_SYST_UP',\n",
       " 'lepSFTrigLooseTight_MU_SF_Trigger_SYST_UP',\n",
       " 'lepEffTrigLoose_MU_SF_Trigger_SYST_UP',\n",
       " 'lepEffTrigTight_MU_SF_Trigger_SYST_UP',\n",
       " 'lepEffTrigTightLoose_MU_SF_Trigger_SYST_UP',\n",
       " 'lepEffTrigLooseTight_MU_SF_Trigger_SYST_UP',\n",
       " 'lepDataEffTrigLoose_MU_SF_Trigger_SYST_UP',\n",
       " 'lepDataEffTrigTight_MU_SF_Trigger_SYST_UP',\n",
       " 'lepDataEffTrigTightLoose_MU_SF_Trigger_SYST_UP',\n",
       " 'lepDataEffTrigLooseTight_MU_SF_Trigger_SYST_UP',\n",
       " 'lepSFTrigLoose_MU_SF_Trigger_SYST_DOWN',\n",
       " 'lepSFTrigTight_MU_SF_Trigger_SYST_DOWN',\n",
       " 'lepSFTrigTightLoose_MU_SF_Trigger_SYST_DOWN',\n",
       " 'lepSFTrigLooseTight_MU_SF_Trigger_SYST_DOWN',\n",
       " 'lepEffTrigLoose_MU_SF_Trigger_SYST_DOWN',\n",
       " 'lepEffTrigTight_MU_SF_Trigger_SYST_DOWN',\n",
       " 'lepEffTrigTightLoose_MU_SF_Trigger_SYST_DOWN',\n",
       " 'lepEffTrigLooseTight_MU_SF_Trigger_SYST_DOWN',\n",
       " 'lepDataEffTrigLoose_MU_SF_Trigger_SYST_DOWN',\n",
       " 'lepDataEffTrigTight_MU_SF_Trigger_SYST_DOWN',\n",
       " 'lepDataEffTrigTightLoose_MU_SF_Trigger_SYST_DOWN',\n",
       " 'lepDataEffTrigLooseTight_MU_SF_Trigger_SYST_DOWN',\n",
       " 'lepSFTrigLoose_EL_SF_Trigger_UP',\n",
       " 'lepSFTrigTight_EL_SF_Trigger_UP',\n",
       " 'lepSFTrigTightLoose_EL_SF_Trigger_UP',\n",
       " 'lepSFTrigLooseTight_EL_SF_Trigger_UP',\n",
       " 'lepEffTrigLoose_EL_SF_Trigger_UP',\n",
       " 'lepEffTrigTight_EL_SF_Trigger_UP',\n",
       " 'lepEffTrigTightLoose_EL_SF_Trigger_UP',\n",
       " 'lepEffTrigLooseTight_EL_SF_Trigger_UP',\n",
       " 'lepDataEffTrigLoose_EL_SF_Trigger_UP',\n",
       " 'lepDataEffTrigTight_EL_SF_Trigger_UP',\n",
       " 'lepDataEffTrigTightLoose_EL_SF_Trigger_UP',\n",
       " 'lepDataEffTrigLooseTight_EL_SF_Trigger_UP',\n",
       " 'lepSFTrigLoose_EL_SF_Trigger_DOWN',\n",
       " 'lepSFTrigTight_EL_SF_Trigger_DOWN',\n",
       " 'lepSFTrigTightLoose_EL_SF_Trigger_DOWN',\n",
       " 'lepSFTrigLooseTight_EL_SF_Trigger_DOWN',\n",
       " 'lepEffTrigLoose_EL_SF_Trigger_DOWN',\n",
       " 'lepEffTrigTight_EL_SF_Trigger_DOWN',\n",
       " 'lepEffTrigTightLoose_EL_SF_Trigger_DOWN',\n",
       " 'lepEffTrigLooseTight_EL_SF_Trigger_DOWN',\n",
       " 'lepDataEffTrigLoose_EL_SF_Trigger_DOWN',\n",
       " 'lepDataEffTrigTight_EL_SF_Trigger_DOWN',\n",
       " 'lepDataEffTrigTightLoose_EL_SF_Trigger_DOWN',\n",
       " 'lepDataEffTrigLooseTight_EL_SF_Trigger_DOWN',\n",
       " 'lepSFTrigLoose_MU_SF_Trigger_STAT_UP',\n",
       " 'lepSFTrigTight_MU_SF_Trigger_STAT_UP',\n",
       " 'lepSFTrigTightLoose_MU_SF_Trigger_STAT_UP',\n",
       " 'lepSFTrigLooseTight_MU_SF_Trigger_STAT_UP',\n",
       " 'lepEffTrigLoose_MU_SF_Trigger_STAT_UP',\n",
       " 'lepEffTrigTight_MU_SF_Trigger_STAT_UP',\n",
       " 'lepEffTrigTightLoose_MU_SF_Trigger_STAT_UP',\n",
       " 'lepEffTrigLooseTight_MU_SF_Trigger_STAT_UP',\n",
       " 'lepDataEffTrigLoose_MU_SF_Trigger_STAT_UP',\n",
       " 'lepDataEffTrigTight_MU_SF_Trigger_STAT_UP',\n",
       " 'lepDataEffTrigTightLoose_MU_SF_Trigger_STAT_UP',\n",
       " 'lepDataEffTrigLooseTight_MU_SF_Trigger_STAT_UP',\n",
       " 'lepSFTrigLoose_MU_SF_Trigger_STAT_DOWN',\n",
       " 'lepSFTrigTight_MU_SF_Trigger_STAT_DOWN',\n",
       " 'lepSFTrigTightLoose_MU_SF_Trigger_STAT_DOWN',\n",
       " 'lepSFTrigLooseTight_MU_SF_Trigger_STAT_DOWN',\n",
       " 'lepEffTrigLoose_MU_SF_Trigger_STAT_DOWN',\n",
       " 'lepEffTrigTight_MU_SF_Trigger_STAT_DOWN',\n",
       " 'lepEffTrigTightLoose_MU_SF_Trigger_STAT_DOWN',\n",
       " 'lepEffTrigLooseTight_MU_SF_Trigger_STAT_DOWN',\n",
       " 'lepDataEffTrigLoose_MU_SF_Trigger_STAT_DOWN',\n",
       " 'lepDataEffTrigTight_MU_SF_Trigger_STAT_DOWN',\n",
       " 'lepDataEffTrigTightLoose_MU_SF_Trigger_STAT_DOWN',\n",
       " 'lepDataEffTrigLooseTight_MU_SF_Trigger_STAT_DOWN',\n",
       " 'lepSFTrigLoose_EL_EFF_Trigger_UP',\n",
       " 'lepSFTrigTight_EL_EFF_Trigger_UP',\n",
       " 'lepSFTrigTightLoose_EL_EFF_Trigger_UP',\n",
       " 'lepSFTrigLooseTight_EL_EFF_Trigger_UP',\n",
       " 'lepEffTrigLoose_EL_EFF_Trigger_UP',\n",
       " 'lepEffTrigTight_EL_EFF_Trigger_UP',\n",
       " 'lepEffTrigTightLoose_EL_EFF_Trigger_UP',\n",
       " 'lepEffTrigLooseTight_EL_EFF_Trigger_UP',\n",
       " 'lepDataEffTrigLoose_EL_EFF_Trigger_UP',\n",
       " 'lepDataEffTrigTight_EL_EFF_Trigger_UP',\n",
       " 'lepDataEffTrigTightLoose_EL_EFF_Trigger_UP',\n",
       " 'lepDataEffTrigLooseTight_EL_EFF_Trigger_UP',\n",
       " 'lepSFTrigLoose_EL_EFF_Trigger_DOWN',\n",
       " 'lepSFTrigTight_EL_EFF_Trigger_DOWN',\n",
       " 'lepSFTrigTightLoose_EL_EFF_Trigger_DOWN',\n",
       " 'lepSFTrigLooseTight_EL_EFF_Trigger_DOWN',\n",
       " 'lepEffTrigLoose_EL_EFF_Trigger_DOWN',\n",
       " 'lepEffTrigTight_EL_EFF_Trigger_DOWN',\n",
       " 'lepEffTrigTightLoose_EL_EFF_Trigger_DOWN',\n",
       " 'lepEffTrigLooseTight_EL_EFF_Trigger_DOWN',\n",
       " 'lepDataEffTrigLoose_EL_EFF_Trigger_DOWN',\n",
       " 'lepDataEffTrigTight_EL_EFF_Trigger_DOWN',\n",
       " 'lepDataEffTrigTightLoose_EL_EFF_Trigger_DOWN',\n",
       " 'lepDataEffTrigLooseTight_EL_EFF_Trigger_DOWN',\n",
       " 'lepSFObjLoose_EL_SF_Reco_UP',\n",
       " 'lepSFObjTight_EL_SF_Reco_UP',\n",
       " 'lepSFObjLoose_EL_SF_Reco_DOWN',\n",
       " 'lepSFObjTight_EL_SF_Reco_DOWN',\n",
       " 'lepSFObjLoose_EL_SF_ID_UP',\n",
       " 'lepSFObjTight_EL_SF_ID_UP',\n",
       " 'lepSFObjLoose_EL_SF_ID_DOWN',\n",
       " 'lepSFObjTight_EL_SF_ID_DOWN',\n",
       " 'lepSFObjLoose_EL_SF_Isol_UP',\n",
       " 'lepSFObjTight_EL_SF_Isol_UP',\n",
       " 'lepSFObjLoose_EL_SF_Isol_DOWN',\n",
       " 'lepSFObjTight_EL_SF_Isol_DOWN',\n",
       " 'lepSFObjLoose_MU_SF_ID_STAT_UP',\n",
       " 'lepSFObjTight_MU_SF_ID_STAT_UP',\n",
       " 'lepSFObjLoose_MU_SF_ID_STAT_DOWN',\n",
       " 'lepSFObjTight_MU_SF_ID_STAT_DOWN',\n",
       " 'lepSFObjLoose_MU_SF_ID_SYST_UP',\n",
       " 'lepSFObjTight_MU_SF_ID_SYST_UP',\n",
       " 'lepSFObjLoose_MU_SF_ID_SYST_DOWN',\n",
       " 'lepSFObjTight_MU_SF_ID_SYST_DOWN',\n",
       " 'lepSFObjLoose_MU_SF_ID_STAT_LOWPT_UP',\n",
       " 'lepSFObjTight_MU_SF_ID_STAT_LOWPT_UP',\n",
       " 'lepSFObjLoose_MU_SF_ID_STAT_LOWPT_DOWN',\n",
       " 'lepSFObjTight_MU_SF_ID_STAT_LOWPT_DOWN',\n",
       " 'lepSFObjLoose_MU_SF_ID_SYST_LOWPT_UP',\n",
       " 'lepSFObjTight_MU_SF_ID_SYST_LOWPT_UP',\n",
       " 'lepSFObjLoose_MU_SF_ID_SYST_LOWPT_DOWN',\n",
       " 'lepSFObjTight_MU_SF_ID_SYST_LOWPT_DOWN',\n",
       " 'lepSFObjLoose_MU_SF_Isol_STAT_UP',\n",
       " 'lepSFObjTight_MU_SF_Isol_STAT_UP',\n",
       " 'lepSFObjLoose_MU_SF_Isol_STAT_DOWN',\n",
       " 'lepSFObjTight_MU_SF_Isol_STAT_DOWN',\n",
       " 'lepSFObjLoose_MU_SF_Isol_SYST_UP',\n",
       " 'lepSFObjTight_MU_SF_Isol_SYST_UP',\n",
       " 'lepSFObjLoose_MU_SF_Isol_SYST_DOWN',\n",
       " 'lepSFObjTight_MU_SF_Isol_SYST_DOWN',\n",
       " 'lepSFObjLoose_MU_SF_TTVA_STAT_UP',\n",
       " 'lepSFObjTight_MU_SF_TTVA_STAT_UP',\n",
       " 'lepSFObjLoose_MU_SF_TTVA_STAT_DOWN',\n",
       " 'lepSFObjTight_MU_SF_TTVA_STAT_DOWN',\n",
       " 'lepSFObjLoose_MU_SF_TTVA_SYST_UP',\n",
       " 'lepSFObjTight_MU_SF_TTVA_SYST_UP',\n",
       " 'lepSFObjLoose_MU_SF_TTVA_SYST_DOWN',\n",
       " 'lepSFObjTight_MU_SF_TTVA_SYST_DOWN',\n",
       " 'tauSFTight_TAU_SF_ELEOLR_TOTAL_UP',\n",
       " 'tauSFLoose_TAU_SF_ELEOLR_TOTAL_UP',\n",
       " 'tauSFTight_TAU_SF_ELEOLR_TOTAL_DOWN',\n",
       " 'tauSFLoose_TAU_SF_ELEOLR_TOTAL_DOWN',\n",
       " 'tauSFTight_TAU_SF_JETID_TOTAL_UP',\n",
       " 'tauSFLoose_TAU_SF_JETID_TOTAL_UP',\n",
       " 'tauSFTight_TAU_SF_JETID_TOTAL_DOWN',\n",
       " 'tauSFLoose_TAU_SF_JETID_TOTAL_DOWN',\n",
       " 'tauSFTight_TAU_SF_RECO_TOTAL_UP',\n",
       " 'tauSFLoose_TAU_SF_RECO_TOTAL_UP',\n",
       " 'tauSFTight_TAU_SF_RECO_TOTAL_DOWN',\n",
       " 'tauSFLoose_TAU_SF_RECO_TOTAL_DOWN',\n",
       " 'tauSFTight_TAU_SF_JETID_HIGHPT_UP',\n",
       " 'tauSFLoose_TAU_SF_JETID_HIGHPT_UP',\n",
       " 'tauSFTight_TAU_SF_JETID_HIGHPT_DOWN',\n",
       " 'tauSFLoose_TAU_SF_JETID_HIGHPT_DOWN',\n",
       " 'tauSFTight_TAU_SF_RECO_HIGHPT_UP',\n",
       " 'tauSFLoose_TAU_SF_RECO_HIGHPT_UP',\n",
       " 'tauSFTight_TAU_SF_RECO_HIGHPT_DOWN',\n",
       " 'tauSFLoose_TAU_SF_RECO_HIGHPT_DOWN',\n",
       " 'tauSFTight_TAU_SF_TRUEELECTRON_ELEOLR_TOTAL_UP',\n",
       " 'tauSFLoose_TAU_SF_TRUEELECTRON_ELEOLR_TOTAL_UP',\n",
       " 'tauSFTight_TAU_SF_TRUEELECTRON_ELEOLR_TOTAL_DOWN',\n",
       " 'tauSFLoose_TAU_SF_TRUEELECTRON_ELEOLR_TOTAL_DOWN',\n",
       " 'forFit_promptSel',\n",
       " 'forFit_tightSel',\n",
       " 'forFit_3l0tauBaseLine',\n",
       " 'forFit_3l0tauFakesSel',\n",
       " 'forFit_2lss0tauBaseLine',\n",
       " 'forFit_2lssFakeQmisSel',\n",
       " 'mcWeightOrg',\n",
       " 'pileupEventWeight_090',\n",
       " 'MV2c10_60_EventWeight',\n",
       " 'MV2c10_70_EventWeight',\n",
       " 'MV2c10_77_EventWeight',\n",
       " 'MV2c10_85_EventWeight',\n",
       " 'MV2c10_Continuous_EventWeight',\n",
       " 'bTagSF_weight_Continuous',\n",
       " 'JVT_EventWeight',\n",
       " 'SherpaNJetWeight',\n",
       " 'EventNumber',\n",
       " 'RunNumber',\n",
       " 'lbn',\n",
       " 'bcid',\n",
       " 'passEventCleaning',\n",
       " 'm_vxp_x',\n",
       " 'm_vxp_y',\n",
       " 'm_vxp_z',\n",
       " 'higgs_pt',\n",
       " 'higgs_eta',\n",
       " 'higgs_phi',\n",
       " 'higgs_E',\n",
       " 'higgs_rapidity',\n",
       " 'top_pt',\n",
       " 'top_eta',\n",
       " 'top_phi',\n",
       " 'top_E',\n",
       " 'antitop_pt',\n",
       " 'antitop_eta',\n",
       " 'antitop_phi',\n",
       " 'antitop_E',\n",
       " 'RunYear',\n",
       " 'HF_Classification',\n",
       " 'HF_ClassificationTop',\n",
       " 'DLF_Classification',\n",
       " 'nJets',\n",
       " 'nJets_Bflav_ghost',\n",
       " 'nJets_LightQflav_ghost',\n",
       " 'nJets_Gluonflav_ghost',\n",
       " 'nJets_PUflav_ghost',\n",
       " 'higgsDecayMode',\n",
       " 'mc_channel_number',\n",
       " 'mc_isAFII',\n",
       " 'averageIntPerXing_uncorr',\n",
       " 'averageIntPerXing',\n",
       " 'actualIntPerXing',\n",
       " 'm_vxp_n',\n",
       " 'm_vxpu_n',\n",
       " 'MET_RefFinal_et',\n",
       " 'MET_RefFinal_phi',\n",
       " 'MET_RefFinal_sumet',\n",
       " 'm_hasMEphoton',\n",
       " 'm_hasMEphoton_DRgt02_nonhad',\n",
       " 'm_MEphoton_OLtty_keepEvent',\n",
       " 'm_MEphoton_OLtty_cat1',\n",
       " 'm_MEphoton_OLtty_cat2',\n",
       " 'm_MEphoton_OLtty_cat3',\n",
       " 'm_MEphoton_OLtty_cat4',\n",
       " 'm_MEphoton_pt',\n",
       " 'm_MEphoton_eta',\n",
       " 'm_MEphoton_phi',\n",
       " 'm_MEphoton_mother_pt',\n",
       " 'm_MEphoton_mother_eta',\n",
       " 'm_MEphoton_mother_phi',\n",
       " 'm_MEphoton_mother_pdgId',\n",
       " 'm_hasFSRPhotonLargeDeltaR',\n",
       " 'HLT_2e12_lhloose_L12EM10VH',\n",
       " 'HLT_2e12_lhvloose_nod0_L12EM10VH',\n",
       " 'HLT_2e17_lhvloose_nod0',\n",
       " 'HLT_2e24_lhvloose_nod0',\n",
       " 'HLT_e120_lhloose',\n",
       " 'HLT_e140_lhloose',\n",
       " 'HLT_e140_lhloose_nod0',\n",
       " 'HLT_e17_lhloose_mu14',\n",
       " 'HLT_e17_lhloose_nod0_mu14',\n",
       " 'HLT_e24_lhmedium_L1EM18VH',\n",
       " 'HLT_e24_lhmedium_L1EM20VH',\n",
       " 'HLT_e24_lhmedium_nod0_L1EM20VH',\n",
       " 'HLT_e26_lhtight_iloose',\n",
       " 'HLT_e26_lhtight_nod0_ivarloose',\n",
       " 'HLT_e60_lhmedium',\n",
       " 'HLT_e60_lhmedium_nod0',\n",
       " 'HLT_e60_medium',\n",
       " 'HLT_e7_lhmedium_mu24',\n",
       " 'HLT_e7_medium_mu24',\n",
       " 'HLT_mu18_mu8noL1',\n",
       " 'HLT_mu20_iloose_L1MU15',\n",
       " 'HLT_mu20_mu8noL1',\n",
       " 'HLT_mu22_mu8noL1',\n",
       " 'HLT_mu24_imedium',\n",
       " 'HLT_mu24_ivarloose',\n",
       " 'HLT_mu24_ivarmedium',\n",
       " 'HLT_mu26_imedium',\n",
       " 'HLT_mu26_ivarmedium',\n",
       " 'HLT_mu50',\n",
       " 'HLT_2e17_lhvloose_nod0_L12EM15VHI',\n",
       " 'lep_promptLeptonInput_sv1_jf_ntrkv_0',\n",
       " 'lep_promptLeptonInput_sv1_jf_ntrkv_1',\n",
       " 'lep_promptLeptonInput_sv1_jf_ntrkv_2',\n",
       " 'lep_promptLeptonInput_TrackJetNTrack_0',\n",
       " 'lep_promptLeptonInput_TrackJetNTrack_1',\n",
       " 'lep_promptLeptonInput_TrackJetNTrack_2',\n",
       " 'lep_promptLeptonInput_DL1mu_0',\n",
       " 'lep_promptLeptonInput_DL1mu_1',\n",
       " 'lep_promptLeptonInput_DL1mu_2',\n",
       " 'lep_promptLeptonInput_DRlj_0',\n",
       " 'lep_promptLeptonInput_DRlj_1',\n",
       " 'lep_promptLeptonInput_DRlj_2',\n",
       " 'lep_promptLeptonInput_LepJetPtFrac_0',\n",
       " 'lep_promptLeptonInput_LepJetPtFrac_1',\n",
       " 'lep_promptLeptonInput_LepJetPtFrac_2',\n",
       " 'lep_promptLeptonInput_PtFrac_0',\n",
       " 'lep_promptLeptonInput_PtFrac_1',\n",
       " 'lep_promptLeptonInput_PtFrac_2',\n",
       " 'lep_promptLeptonInput_PtRel_0',\n",
       " 'lep_promptLeptonInput_PtRel_1',\n",
       " 'lep_promptLeptonInput_PtRel_2',\n",
       " 'lep_promptLeptonInput_ip2_0',\n",
       " 'lep_promptLeptonInput_ip2_1',\n",
       " 'lep_promptLeptonInput_ip2_2',\n",
       " 'lep_promptLeptonInput_ip3_0',\n",
       " 'lep_promptLeptonInput_ip3_1',\n",
       " 'lep_promptLeptonInput_ip3_2',\n",
       " 'lep_promptLeptonInput_rnnip_0',\n",
       " 'lep_promptLeptonInput_rnnip_1',\n",
       " 'lep_promptLeptonInput_rnnip_2',\n",
       " 'lep_ID_0',\n",
       " 'lep_Index_0',\n",
       " 'lep_ambiguityType_0',\n",
       " 'lep_Pt_0',\n",
       " 'lep_E_0',\n",
       " 'lep_Eta_0',\n",
       " 'lep_Phi_0',\n",
       " 'lep_EtaBE2_0',\n",
       " 'lep_topoEtcone20_0',\n",
       " 'lep_topoEtcone30_0',\n",
       " 'lep_topoEtcone40_0',\n",
       " 'lep_ptVarcone20_0',\n",
       " 'lep_ptVarcone30_0',\n",
       " 'lep_ptVarcone40_0',\n",
       " 'lep_sigd0PV_0',\n",
       " 'lep_Z0SinTheta_0',\n",
       " 'lep_d0_0',\n",
       " 'lep_z0_0',\n",
       " 'lep_vz_0',\n",
       " 'lep_deltaz0_0',\n",
       " 'lep_isTightLH_0',\n",
       " 'lep_isMediumLH_0',\n",
       " 'lep_isLooseLH_0',\n",
       " 'lep_isTight_0',\n",
       " 'lep_isMedium_0',\n",
       " 'lep_isLoose_0',\n",
       " 'lep_isolationLooseTrackOnly_0',\n",
       " 'lep_isolationLoose_0',\n",
       " 'lep_isolationGradient_0',\n",
       " 'lep_isolationGradientLoose_0',\n",
       " 'lep_isolationFixedCutTight_0',\n",
       " 'lep_isolationFixedCutTightTrackOnly_0',\n",
       " 'lep_isolationFixedCutLoose_0',\n",
       " 'lep_isTrigMatch_0',\n",
       " 'lep_isTrigMatchDLT_0',\n",
       " 'lep_isPrompt_0',\n",
       " 'lep_isFakeLep_0',\n",
       " 'lep_isQMisID_0',\n",
       " 'lep_isConvPh_0',\n",
       " 'lep_isIntConvPh_0',\n",
       " 'lep_isExtConvPh_0',\n",
       " 'lep_isISR_FSR_Ph_0',\n",
       " 'lep_isBrems_0',\n",
       " 'lep_isTruthMatched_0',\n",
       " 'lep_truthType_0',\n",
       " 'lep_truthOrigin_0',\n",
       " 'lep_truthPdgId_0',\n",
       " 'lep_truthStatus_0',\n",
       " 'lep_truthParentType_0',\n",
       " 'lep_truthParentOrigin_0',\n",
       " 'lep_truthParentPdgId_0',\n",
       " 'lep_truthParentStatus_0',\n",
       " 'lep_truthPt_0',\n",
       " 'lep_truthEta_0',\n",
       " 'lep_truthPhi_0',\n",
       " 'lep_truthM_0',\n",
       " 'lep_truthE_0',\n",
       " 'lep_truthRapidity_0',\n",
       " 'lep_SFIDLoose_0',\n",
       " 'lep_SFIDTight_0',\n",
       " 'lep_SFTrigLoose_0',\n",
       " 'lep_SFTrigTight_0',\n",
       " 'lep_EffTrigLoose_0',\n",
       " 'lep_EffTrigTight_0',\n",
       " 'lep_SFIsoLoose_0',\n",
       " 'lep_SFIsoTight_0',\n",
       " 'lep_SFReco_0',\n",
       " 'lep_SFTTVA_0',\n",
       " 'lep_SFObjLoose_0',\n",
       " 'lep_SFObjTight_0',\n",
       " 'lep_chargeIDBDTLoose_0',\n",
       " 'lep_chargeIDBDTMedium_0',\n",
       " 'lep_chargeIDBDTTight_0',\n",
       " 'lep_promptLeptonIso_TagWeight_0',\n",
       " 'lep_promptLeptonVeto_TagWeight_0',\n",
       " 'lep_ID_1',\n",
       " 'lep_Index_1',\n",
       " 'lep_ambiguityType_1',\n",
       " 'lep_Pt_1',\n",
       " 'lep_E_1',\n",
       " 'lep_Eta_1',\n",
       " 'lep_Phi_1',\n",
       " 'lep_EtaBE2_1',\n",
       " 'lep_topoEtcone20_1',\n",
       " 'lep_topoEtcone30_1',\n",
       " 'lep_topoEtcone40_1',\n",
       " 'lep_ptVarcone20_1',\n",
       " 'lep_ptVarcone30_1',\n",
       " 'lep_ptVarcone40_1',\n",
       " 'lep_sigd0PV_1',\n",
       " 'lep_Z0SinTheta_1',\n",
       " 'lep_d0_1',\n",
       " 'lep_z0_1',\n",
       " 'lep_vz_1',\n",
       " 'lep_deltaz0_1',\n",
       " 'lep_isTightLH_1',\n",
       " 'lep_isMediumLH_1',\n",
       " 'lep_isLooseLH_1',\n",
       " 'lep_isTight_1',\n",
       " 'lep_isMedium_1',\n",
       " 'lep_isLoose_1',\n",
       " 'lep_isolationLooseTrackOnly_1',\n",
       " 'lep_isolationLoose_1',\n",
       " 'lep_isolationGradient_1',\n",
       " 'lep_isolationGradientLoose_1',\n",
       " 'lep_isolationFixedCutTight_1',\n",
       " 'lep_isolationFixedCutTightTrackOnly_1',\n",
       " 'lep_isolationFixedCutLoose_1',\n",
       " 'lep_isTrigMatch_1',\n",
       " 'lep_isTrigMatchDLT_1',\n",
       " 'lep_isPrompt_1',\n",
       " 'lep_isFakeLep_1',\n",
       " 'lep_isQMisID_1',\n",
       " 'lep_isConvPh_1',\n",
       " 'lep_isIntConvPh_1',\n",
       " 'lep_isExtConvPh_1',\n",
       " 'lep_isISR_FSR_Ph_1',\n",
       " 'lep_isBrems_1',\n",
       " 'lep_isTruthMatched_1',\n",
       " 'lep_truthType_1',\n",
       " 'lep_truthOrigin_1',\n",
       " 'lep_truthPdgId_1',\n",
       " 'lep_truthStatus_1',\n",
       " 'lep_truthParentType_1',\n",
       " 'lep_truthParentOrigin_1',\n",
       " 'lep_truthParentPdgId_1',\n",
       " 'lep_truthParentStatus_1',\n",
       " 'lep_truthPt_1',\n",
       " 'lep_truthEta_1',\n",
       " 'lep_truthPhi_1',\n",
       " 'lep_truthM_1',\n",
       " 'lep_truthE_1',\n",
       " 'lep_truthRapidity_1',\n",
       " 'lep_SFIDLoose_1',\n",
       " 'lep_SFIDTight_1',\n",
       " 'lep_SFTrigLoose_1',\n",
       " 'lep_SFTrigTight_1',\n",
       " 'lep_EffTrigLoose_1',\n",
       " 'lep_EffTrigTight_1',\n",
       " 'lep_SFIsoLoose_1',\n",
       " 'lep_SFIsoTight_1',\n",
       " 'lep_SFReco_1',\n",
       " 'lep_SFTTVA_1',\n",
       " 'lep_SFObjLoose_1',\n",
       " 'lep_SFObjTight_1',\n",
       " 'lep_chargeIDBDTLoose_1',\n",
       " 'lep_chargeIDBDTMedium_1',\n",
       " 'lep_chargeIDBDTTight_1',\n",
       " 'lep_promptLeptonIso_TagWeight_1',\n",
       " 'lep_promptLeptonVeto_TagWeight_1',\n",
       " 'lep_ID_2',\n",
       " 'lep_Index_2',\n",
       " 'lep_ambiguityType_2',\n",
       " 'lep_Pt_2',\n",
       " 'lep_E_2',\n",
       " 'lep_Eta_2',\n",
       " 'lep_Phi_2',\n",
       " 'lep_EtaBE2_2',\n",
       " 'lep_topoEtcone20_2',\n",
       " 'lep_topoEtcone30_2',\n",
       " 'lep_topoEtcone40_2',\n",
       " 'lep_ptVarcone20_2',\n",
       " 'lep_ptVarcone30_2',\n",
       " 'lep_ptVarcone40_2',\n",
       " 'lep_sigd0PV_2',\n",
       " 'lep_Z0SinTheta_2',\n",
       " 'lep_d0_2',\n",
       " 'lep_z0_2',\n",
       " 'lep_vz_2',\n",
       " 'lep_deltaz0_2',\n",
       " 'lep_isTightLH_2',\n",
       " 'lep_isMediumLH_2',\n",
       " 'lep_isLooseLH_2',\n",
       " 'lep_isTight_2',\n",
       " 'lep_isMedium_2',\n",
       " 'lep_isLoose_2',\n",
       " 'lep_isolationLooseTrackOnly_2',\n",
       " 'lep_isolationLoose_2',\n",
       " 'lep_isolationGradient_2',\n",
       " 'lep_isolationGradientLoose_2',\n",
       " 'lep_isolationFixedCutTight_2',\n",
       " 'lep_isolationFixedCutTightTrackOnly_2',\n",
       " 'lep_isolationFixedCutLoose_2',\n",
       " 'lep_isTrigMatch_2',\n",
       " 'lep_isTrigMatchDLT_2',\n",
       " 'lep_isPrompt_2',\n",
       " 'lep_isFakeLep_2',\n",
       " 'lep_isQMisID_2',\n",
       " 'lep_isConvPh_2',\n",
       " 'lep_isIntConvPh_2',\n",
       " 'lep_isExtConvPh_2',\n",
       " 'lep_isISR_FSR_Ph_2',\n",
       " 'lep_isBrems_2',\n",
       " 'lep_isTruthMatched_2',\n",
       " 'lep_truthType_2',\n",
       " 'lep_truthOrigin_2',\n",
       " 'lep_truthPdgId_2',\n",
       " 'lep_truthStatus_2',\n",
       " 'lep_truthParentType_2',\n",
       " 'lep_truthParentOrigin_2',\n",
       " 'lep_truthParentPdgId_2',\n",
       " 'lep_truthParentStatus_2',\n",
       " 'lep_truthPt_2',\n",
       " 'lep_truthEta_2',\n",
       " 'lep_truthPhi_2',\n",
       " 'lep_truthM_2',\n",
       " 'lep_truthE_2',\n",
       " 'lep_truthRapidity_2',\n",
       " 'lep_SFIDLoose_2',\n",
       " 'lep_SFIDTight_2',\n",
       " 'lep_SFTrigLoose_2',\n",
       " 'lep_SFTrigTight_2',\n",
       " 'lep_EffTrigLoose_2',\n",
       " 'lep_EffTrigTight_2',\n",
       " 'lep_SFIsoLoose_2',\n",
       " 'lep_SFIsoTight_2',\n",
       " 'lep_SFReco_2',\n",
       " 'lep_SFTTVA_2',\n",
       " 'lep_SFObjLoose_2',\n",
       " 'lep_SFObjTight_2',\n",
       " 'lep_chargeIDBDTLoose_2',\n",
       " 'lep_chargeIDBDTMedium_2',\n",
       " 'lep_chargeIDBDTTight_2',\n",
       " 'lep_promptLeptonIso_TagWeight_2',\n",
       " 'lep_promptLeptonVeto_TagWeight_2',\n",
       " 'lep_ID_3',\n",
       " 'lep_Index_3',\n",
       " 'lep_ambiguityType_3',\n",
       " 'lep_Pt_3',\n",
       " 'lep_E_3',\n",
       " 'lep_Eta_3',\n",
       " 'lep_Phi_3',\n",
       " 'lep_EtaBE2_3',\n",
       " 'lep_topoEtcone20_3',\n",
       " 'lep_topoEtcone30_3',\n",
       " 'lep_topoEtcone40_3',\n",
       " 'lep_ptVarcone20_3',\n",
       " 'lep_ptVarcone30_3',\n",
       " 'lep_ptVarcone40_3',\n",
       " 'lep_sigd0PV_3',\n",
       " 'lep_Z0SinTheta_3',\n",
       " 'lep_d0_3',\n",
       " 'lep_z0_3',\n",
       " 'lep_vz_3',\n",
       " 'lep_deltaz0_3',\n",
       " 'lep_isTightLH_3',\n",
       " 'lep_isMediumLH_3',\n",
       " 'lep_isLooseLH_3',\n",
       " 'lep_isTight_3',\n",
       " 'lep_isMedium_3',\n",
       " 'lep_isLoose_3',\n",
       " 'lep_isolationLooseTrackOnly_3',\n",
       " 'lep_isolationLoose_3',\n",
       " 'lep_isolationGradient_3',\n",
       " 'lep_isolationGradientLoose_3',\n",
       " 'lep_isolationFixedCutTight_3',\n",
       " 'lep_isolationFixedCutTightTrackOnly_3',\n",
       " 'lep_isolationFixedCutLoose_3',\n",
       " 'lep_isTrigMatch_3',\n",
       " 'lep_isTrigMatchDLT_3',\n",
       " 'lep_isPrompt_3',\n",
       " 'lep_isFakeLep_3',\n",
       " 'lep_isQMisID_3',\n",
       " 'lep_isConvPh_3',\n",
       " 'lep_isIntConvPh_3',\n",
       " 'lep_isExtConvPh_3',\n",
       " 'lep_isISR_FSR_Ph_3',\n",
       " 'lep_isBrems_3',\n",
       " 'lep_isTruthMatched_3',\n",
       " 'lep_truthType_3',\n",
       " 'lep_truthOrigin_3',\n",
       " 'lep_truthPdgId_3',\n",
       " 'lep_truthStatus_3',\n",
       " 'lep_truthParentType_3',\n",
       " 'lep_truthParentOrigin_3',\n",
       " 'lep_truthParentPdgId_3',\n",
       " 'lep_truthParentStatus_3',\n",
       " 'lep_truthPt_3',\n",
       " 'lep_truthEta_3',\n",
       " 'lep_truthPhi_3',\n",
       " 'lep_truthM_3',\n",
       " 'lep_truthE_3',\n",
       " 'lep_truthRapidity_3',\n",
       " 'lep_SFIDLoose_3',\n",
       " 'lep_SFIDTight_3',\n",
       " 'lep_SFTrigLoose_3',\n",
       " 'lep_SFTrigTight_3',\n",
       " 'lep_EffTrigLoose_3',\n",
       " 'lep_EffTrigTight_3',\n",
       " 'lep_SFIsoLoose_3',\n",
       " 'lep_SFIsoTight_3',\n",
       " 'lep_SFReco_3',\n",
       " 'lep_SFTTVA_3',\n",
       " 'lep_SFObjLoose_3',\n",
       " 'lep_SFObjTight_3',\n",
       " 'lep_chargeIDBDTLoose_3',\n",
       " 'lep_chargeIDBDTMedium_3',\n",
       " 'lep_chargeIDBDTTight_3',\n",
       " 'lep_promptLeptonIso_TagWeight_3',\n",
       " 'lep_promptLeptonVeto_TagWeight_3',\n",
       " 'lep_nTrackParticles_0',\n",
       " 'lep_RadiusCO_0',\n",
       " 'lep_SeparationMinDCT_0',\n",
       " 'lep_ClosestSiTracknIL_0',\n",
       " 'lep_ClosestSiTrackeIL_0',\n",
       " 'lep_ClosestSiTracknNIL_0',\n",
       " 'lep_ClosestSiTrackeNIL_0',\n",
       " 'lep_BestMatchTrackPt_0',\n",
       " 'lep_BestMatchTrackEta_0',\n",
       " 'lep_BestMatchTrackPhi_0',\n",
       " 'lep_BestMatchTrackD0_0',\n",
       " 'lep_BestMatchTrackZ0_0',\n",
       " 'lep_BestMatchTrackQ_0',\n",
       " 'lep_ClosestSiTrackPt_0',\n",
       " 'lep_ClosestSiTrackEta_0',\n",
       " 'lep_ClosestSiTrackPhi_0',\n",
       " 'lep_ClosestSiTrackD0_0',\n",
       " 'lep_ClosestSiTrackZ0_0',\n",
       " 'lep_ClosestSiTrackQ_0',\n",
       " ...]"
      ]
     },
     "execution_count": 168,
     "metadata": {},
     "output_type": "execute_result"
    }
   ],
   "source": [
    "features"
   ]
  },
  {
   "cell_type": "code",
   "execution_count": null,
   "metadata": {},
   "outputs": [],
   "source": []
  },
  {
   "cell_type": "code",
   "execution_count": 331,
   "metadata": {},
   "outputs": [],
   "source": [
    "def list_branch_to_remove(df,additional_vars=[]):\n",
    "    syst_list=['UP','DOWN','CRB','scale','weight','SF','Eff',\n",
    "               'forFit','HLT','tau','MV2c20','is1','is2','is3','is4',\n",
    "               'ghost','flvWtOrdr','pass']\n",
    "    syst_list=syst_list+additional_vars\n",
    "    matches_syst=[]\n",
    "    features = list(df.columns.values)\n",
    "    for x in features:\n",
    "        for j in syst_list:\n",
    "            if j in x:\n",
    "                matches_syst.append(x.strip())\n",
    "    return matches_syst\n"
   ]
  },
  {
   "cell_type": "code",
   "execution_count": 170,
   "metadata": {},
   "outputs": [],
   "source": [
    "data_sel_trim = data_sel.drop(list_branch_to_remove(data_sel),axis=1)"
   ]
  },
  {
   "cell_type": "code",
   "execution_count": 171,
   "metadata": {},
   "outputs": [],
   "source": [
    "bkg_set_sel_trim = bkg_set_sel.drop(list_branch_to_remove(bkg_set_sel),axis=1)"
   ]
  },
  {
   "cell_type": "code",
   "execution_count": 188,
   "metadata": {},
   "outputs": [
    {
     "data": {
      "text/plain": [
       "Index(['entry', 'isGNv02', 'minOSMll', 'DEtall01', 'DEtall02', 'DEtall12',\n",
       "       'lep_flavour', 'jet_flavor', 'total_charge_2lSS', 'isExtConv',\n",
       "       ...\n",
       "       'lead_jetEta', 'lead_jetPhi', 'lead_jetE', 'sublead_jetPt',\n",
       "       'sublead_jetEta', 'sublead_jetPhi', 'sublead_jetE', 'label', 't_w',\n",
       "       'ltype'],\n",
       "      dtype='object', length=651)"
      ]
     },
     "execution_count": 188,
     "metadata": {},
     "output_type": "execute_result"
    }
   ],
   "source": [
    "data_sel_trim1.columns"
   ]
  },
  {
   "cell_type": "code",
   "execution_count": 187,
   "metadata": {},
   "outputs": [
    {
     "data": {
      "text/plain": [
       "Index(['entry', 'isGNv02', 'minOSMll', 'DEtall01', 'DEtall02', 'DEtall12',\n",
       "       'lep_flavour', 'jet_flavor', 'total_charge_2lSS', 'isExtConv',\n",
       "       ...\n",
       "       'lead_jetEta', 'lead_jetPhi', 'lead_jetE', 'sublead_jetPt',\n",
       "       'sublead_jetEta', 'sublead_jetPhi', 'sublead_jetE', 'label', 't_w',\n",
       "       'ltype'],\n",
       "      dtype='object', length=652)"
      ]
     },
     "execution_count": 187,
     "metadata": {},
     "output_type": "execute_result"
    }
   ],
   "source": [
    "bkg_set_sel_trim.columns"
   ]
  },
  {
   "cell_type": "code",
   "execution_count": 189,
   "metadata": {},
   "outputs": [
    {
     "data": {
      "text/plain": [
       "['nJets']"
      ]
     },
     "execution_count": 189,
     "metadata": {},
     "output_type": "execute_result"
    }
   ],
   "source": [
    "s = set(data_sel_trim1.columns)\n",
    "temp3 = [x for x in bkg_set_sel_trim.columns if x not in s]\n",
    "temp3"
   ]
  },
  {
   "cell_type": "code",
   "execution_count": 205,
   "metadata": {},
   "outputs": [],
   "source": [
    "bkg_set_sel_trim1 = bkg_set_sel_trim.drop(['nJets'],axis=1)"
   ]
  },
  {
   "cell_type": "code",
   "execution_count": 184,
   "metadata": {},
   "outputs": [],
   "source": [
    "data_sel_trim1 = data_sel_trim.drop(temp3,axis=1)"
   ]
  },
  {
   "cell_type": "code",
   "execution_count": 433,
   "metadata": {},
   "outputs": [],
   "source": [
    "Xnew=pandas.concat([data_sel_trim1,bkg_set_sel_trim1])"
   ]
  },
  {
   "cell_type": "code",
   "execution_count": 228,
   "metadata": {},
   "outputs": [],
   "source": [
    "y=X['ltype']"
   ]
  },
  {
   "cell_type": "code",
   "execution_count": 252,
   "metadata": {},
   "outputs": [],
   "source": [
    "#X=X.drop(['ltype'],axis=1)\n",
    "X=X.drop(['t_w'],axis=1)"
   ]
  },
  {
   "cell_type": "code",
   "execution_count": 237,
   "metadata": {},
   "outputs": [],
   "source": [
    "X=X.drop(['label'],axis=1)"
   ]
  },
  {
   "cell_type": "code",
   "execution_count": 302,
   "metadata": {},
   "outputs": [],
   "source": [
    "final_clean=[]\n",
    "for i in X.columns:\n",
    "    val = X[i].sum()\n",
    "    if val< -1e+30 or val> 1e+30:\n",
    "        print(i,val)\n",
    "        final_clean.append(i)"
   ]
  },
  {
   "cell_type": "code",
   "execution_count": 413,
   "metadata": {},
   "outputs": [],
   "source": [
    "for i in X.columns:\n",
    "    val = X[i].sum()\n",
    "    if abs(val)>1e+30:\n",
    "        print(i,val)\n",
    "        final_clean.append(i)"
   ]
  },
  {
   "cell_type": "code",
   "execution_count": 414,
   "metadata": {},
   "outputs": [
    {
     "data": {
      "text/plain": [
       "[]"
      ]
     },
     "execution_count": 414,
     "metadata": {},
     "output_type": "execute_result"
    }
   ],
   "source": [
    "final_clean"
   ]
  },
  {
   "cell_type": "code",
   "execution_count": 301,
   "metadata": {},
   "outputs": [],
   "source": [
    "X = X.drop(final_clean,axis=1)"
   ]
  },
  {
   "cell_type": "code",
   "execution_count": 307,
   "metadata": {},
   "outputs": [],
   "source": [
    "from sklearn.ensemble import RandomForestClassifier\n",
    "from sklearn import preprocessing\n",
    "from sklearn.preprocessing import StandardScaler\n",
    "\n"
   ]
  },
  {
   "cell_type": "code",
   "execution_count": 260,
   "metadata": {},
   "outputs": [],
   "source": [
    "clf = RandomForestClassifier(n_estimators=100, random_state=42)"
   ]
  },
  {
   "cell_type": "code",
   "execution_count": 437,
   "metadata": {},
   "outputs": [],
   "source": [
    "X0=list_branch_to_remove(Xnew,['pileupEventWeight_090','UP','DOWN','CRB','scale','weight',\n",
    "                                 'SF','Eff','forFit','HLT','tau','MV2c20','is1','is2','is3',\n",
    "                                 'is4','ghost','flvWtOrdr','pass','mc_channel_number','truth',\n",
    "                                 'isBrems','isTruth','isQMisID','isExtConv','isConv',\n",
    "                                 'isIntConv','isISR','ist','isFake','isLepFromPhEvent',\n",
    "                                'isPrompt','top_','isW','MEphoton','jet_flavor',\n",
    "                                'pileupEventWeight_090','JVT_EventWeight','SherpaNJetWeight','mcWeightOrg','mcEventWeights',\n",
    "                                'isPrompt','isV','higgs','Clas','bcid','lbn','EventNumber','entry','RunNumber'])\n",
    "#,'isBrems','isTruth','isQMisID','isExtConv','isConv','isIntConv','isISR''isttGamma']"
   ]
  },
  {
   "cell_type": "code",
   "execution_count": 434,
   "metadata": {},
   "outputs": [],
   "source": [
    "Xnew=Xnew.drop(['label'],axis=1)"
   ]
  },
  {
   "cell_type": "code",
   "execution_count": 438,
   "metadata": {},
   "outputs": [],
   "source": [
    "Xnew= Xnew.drop(X0,axis=1)\n",
    "#['lep_truthType_0'].head()# "
   ]
  },
  {
   "cell_type": "code",
   "execution_count": 396,
   "metadata": {},
   "outputs": [],
   "source": [
    "X_noTr=X_noTr.drop(['RunNumber'],axis=1)"
   ]
  },
  {
   "cell_type": "code",
   "execution_count": 440,
   "metadata": {},
   "outputs": [
    {
     "data": {
      "text/plain": [
       "488"
      ]
     },
     "execution_count": 440,
     "metadata": {},
     "output_type": "execute_result"
    }
   ],
   "source": [
    "len(Xnew.columns)"
   ]
  },
  {
   "cell_type": "code",
   "execution_count": 428,
   "metadata": {},
   "outputs": [
    {
     "data": {
      "text/html": [
       "<div>\n",
       "<style scoped>\n",
       "    .dataframe tbody tr th:only-of-type {\n",
       "        vertical-align: middle;\n",
       "    }\n",
       "\n",
       "    .dataframe tbody tr th {\n",
       "        vertical-align: top;\n",
       "    }\n",
       "\n",
       "    .dataframe thead th {\n",
       "        text-align: right;\n",
       "    }\n",
       "</style>\n",
       "<table border=\"1\" class=\"dataframe\">\n",
       "  <thead>\n",
       "    <tr style=\"text-align: right;\">\n",
       "      <th></th>\n",
       "    </tr>\n",
       "  </thead>\n",
       "  <tbody>\n",
       "  </tbody>\n",
       "</table>\n",
       "</div>"
      ],
      "text/plain": [
       "Empty DataFrame\n",
       "Columns: []\n",
       "Index: []"
      ]
     },
     "execution_count": 428,
     "metadata": {},
     "output_type": "execute_result"
    }
   ],
   "source": [
    "col_mask=X.isnull().any(axis=0)\n",
    "row_mask=X.isnull().any(axis=1)\n",
    "X.loc[row_mask,col_mask]"
   ]
  },
  {
   "cell_type": "code",
   "execution_count": 493,
   "metadata": {},
   "outputs": [],
   "source": [
    "Xnew2= Xnew2.drop(['mlb_h','MV2c10_60_EventWeight','MV2c10_70_EventWeight','MV2c10_77_EventWeight','MV2c10_85_EventWeight','MV2c10_Continuous_EventWeight','averageMW'],axis=1)\n",
    "#'mlb_h','MV2c10_60_EventWeight','MV2c10_70_EventWeight','MV2c10_77_EventWeight','MV2c10_85_EventWeight','MV2c10_Continuous_EventWeight','averageMW'"
   ]
  },
  {
   "cell_type": "code",
   "execution_count": 457,
   "metadata": {},
   "outputs": [
    {
     "data": {
      "text/plain": [
       "False"
      ]
     },
     "execution_count": 457,
     "metadata": {},
     "output_type": "execute_result"
    }
   ],
   "source": [
    "Xnew2.isnull().values.any()"
   ]
  },
  {
   "cell_type": "code",
   "execution_count": 455,
   "metadata": {},
   "outputs": [
    {
     "name": "stdout",
     "output_type": "stream",
     "text": [
      "mlb_h\n"
     ]
    }
   ],
   "source": [
    "for i in Xnew.columns:\n",
    "    if Xnew[i].isnull().any():\n",
    "        print(i)"
   ]
  },
  {
   "cell_type": "code",
   "execution_count": 458,
   "metadata": {},
   "outputs": [
    {
     "data": {
      "text/html": [
       "<div>\n",
       "<style scoped>\n",
       "    .dataframe tbody tr th:only-of-type {\n",
       "        vertical-align: middle;\n",
       "    }\n",
       "\n",
       "    .dataframe tbody tr th {\n",
       "        vertical-align: top;\n",
       "    }\n",
       "\n",
       "    .dataframe thead th {\n",
       "        text-align: right;\n",
       "    }\n",
       "</style>\n",
       "<table border=\"1\" class=\"dataframe\">\n",
       "  <thead>\n",
       "    <tr style=\"text-align: right;\">\n",
       "      <th></th>\n",
       "      <th>isGNv02</th>\n",
       "      <th>minOSMll</th>\n",
       "      <th>DEtall01</th>\n",
       "      <th>DEtall02</th>\n",
       "      <th>DEtall12</th>\n",
       "      <th>lep_flavour</th>\n",
       "      <th>total_charge_2lSS</th>\n",
       "      <th>max_eta</th>\n",
       "      <th>SDRll</th>\n",
       "      <th>DeltaR_max_lep</th>\n",
       "      <th>...</th>\n",
       "      <th>lead_jetPt</th>\n",
       "      <th>lead_jetEta</th>\n",
       "      <th>lead_jetPhi</th>\n",
       "      <th>lead_jetE</th>\n",
       "      <th>sublead_jetPt</th>\n",
       "      <th>sublead_jetEta</th>\n",
       "      <th>sublead_jetPhi</th>\n",
       "      <th>sublead_jetE</th>\n",
       "      <th>t_w</th>\n",
       "      <th>ltype</th>\n",
       "    </tr>\n",
       "  </thead>\n",
       "  <tbody>\n",
       "  </tbody>\n",
       "</table>\n",
       "<p>0 rows × 487 columns</p>\n",
       "</div>"
      ],
      "text/plain": [
       "Empty DataFrame\n",
       "Columns: [isGNv02, minOSMll, DEtall01, DEtall02, DEtall12, lep_flavour, total_charge_2lSS, max_eta, SDRll, DeltaR_max_lep, DPhi_max_lep_met, DeltaR_min_lep_jet, minDeltaR_LJ_0, minDeltaR_LJ_1, minDeltaR_LJ_2, Meff, Mjj_closeW, DRlb_h, ptlb_h, DeltaRLeadjets, jet1pTbin, jet2pTbin, jet3pTbin, jet3etabin, jet1MV2c10_bin, jet2MV2c10_bin, MvisH, MvisnonH, lep_PtVarCone20Rel_1, DeltaRLeadLepClosestJet, Ml2l3met, jet2_pt, jet2_eta, jet2_phi, jet3_pt, jet3_eta, jet3_phi, jet0_tagWeightBin, jet1_tagWeightBin, jet2_tagWeightBin, jet3_tagWeightBin, N_el, N_mu, tempDPl0t, tempDPl1t, tempDP2l, tempDPlt_closest, tempDPlt_furthest, DeltaRSubLepClosestJet, SignProduct2sslt, TransverseMassLeadLepMET, LD_HTmiss_ETmiss, Mjj_nonb, Mtop, MtopW, temptopoetcone20overpTlep0, temptopoetcone20overpTlep1, tempptvarcone20overpTlep0, tempptvarcone20overpTlep1, L2SS1Tau_Category, lep_isAntiTight_0, lep_isAntiTight_1, DRlj00, DRjj01, min_DRl0j, min_DRl1j, min_DRl2j, min_DRl0b, min_DRl1b, min_DRl2b, min_DRlj_new, nJets_OR_T_overflow, nJets_OR_T_MV2c10_70_overflow, DPhij0MET, lead_BjetPt, lead_jet_is_lead_antitag, lead_jet_is_lead_tag, lep_Pt_1_new, lep_Pt_2_new, lep_ID_1_new, lep_ID_2_new, lep_Eta_1_new, lep_Eta_2_new, lep_Phi_1_new, lep_Phi_2_new, lep_isolationFixedCutLoose_1_new, lep_isolationFixedCutLoose_2_new, lep_promptLeptonVeto_TagWeight_1_new, lep_promptLeptonVeto_TagWeight_2_new, lep_isTightLH_1_new, lep_isTightLH_2_new, lep_chargeIDBDTTight_1_new, lep_chargeIDBDTTight_2_new, lep_ambiguityType_1_new, lep_ambiguityType_2_new, lep_isMedium_1_new, lep_isMedium_2_new, EventWeight, lep_isTightSelected_0, lep_isTightSelected_1, ...]\n",
       "Index: []\n",
       "\n",
       "[0 rows x 487 columns]"
      ]
     },
     "execution_count": 458,
     "metadata": {},
     "output_type": "execute_result"
    }
   ],
   "source": [
    "nan_rows = Xnew2[Xnew2.isnull().any(1)]\n",
    "nan_rows"
   ]
  },
  {
   "cell_type": "code",
   "execution_count": 451,
   "metadata": {},
   "outputs": [
    {
     "data": {
      "text/plain": [
       "isGNv02                    False\n",
       "minOSMll                   False\n",
       "DEtall01                   False\n",
       "DEtall02                   False\n",
       "DEtall12                   False\n",
       "lep_flavour                False\n",
       "total_charge_2lSS          False\n",
       "max_eta                    False\n",
       "SDRll                      False\n",
       "DeltaR_max_lep             False\n",
       "DPhi_max_lep_met           False\n",
       "DeltaR_min_lep_jet         False\n",
       "minDeltaR_LJ_0             False\n",
       "minDeltaR_LJ_1             False\n",
       "minDeltaR_LJ_2             False\n",
       "Meff                       False\n",
       "Mjj_closeW                 False\n",
       "DRlb_h                     False\n",
       "ptlb_h                     False\n",
       "DeltaRLeadjets             False\n",
       "jet1pTbin                  False\n",
       "jet2pTbin                  False\n",
       "jet3pTbin                  False\n",
       "jet3etabin                 False\n",
       "jet1MV2c10_bin             False\n",
       "jet2MV2c10_bin             False\n",
       "MvisH                      False\n",
       "MvisnonH                   False\n",
       "lep_PtVarCone20Rel_1       False\n",
       "DeltaRLeadLepClosestJet    False\n",
       "                           ...  \n",
       "matchDLTll13               False\n",
       "matchDLTll23               False\n",
       "best_Z_Mll                 False\n",
       "best_Z_other_Mll           False\n",
       "best_Z_other_MtLepMet      False\n",
       "nJets_OR_T                 False\n",
       "nJets_OR                   False\n",
       "nJets_OR_T_MV2c10_60       False\n",
       "nJets_OR_T_MV2c10_70       False\n",
       "nJets_OR_T_MV2c10_77       False\n",
       "nJets_OR_T_MV2c10_85       False\n",
       "nJets_OR_MV2c10_85         False\n",
       "nJets_OR_MV2c10_60         False\n",
       "nJets_OR_MV2c10_77         False\n",
       "nJets_OR_MV2c10_70         False\n",
       "nTaus_OR_Pt25              False\n",
       "isBlinded                  False\n",
       "HT                         False\n",
       "HT_lep                     False\n",
       "HT_jets                    False\n",
       "lead_jetPt                 False\n",
       "lead_jetEta                False\n",
       "lead_jetPhi                False\n",
       "lead_jetE                  False\n",
       "sublead_jetPt              False\n",
       "sublead_jetEta             False\n",
       "sublead_jetPhi             False\n",
       "sublead_jetE               False\n",
       "t_w                        False\n",
       "ltype                      False\n",
       "Length: 488, dtype: bool"
      ]
     },
     "execution_count": 451,
     "metadata": {},
     "output_type": "execute_result"
    }
   ],
   "source": [
    "Xnew.isnull().any()"
   ]
  },
  {
   "cell_type": "code",
   "execution_count": 448,
   "metadata": {},
   "outputs": [
    {
     "data": {
      "text/plain": [
       "isGNv02                    0\n",
       "minOSMll                   0\n",
       "DEtall01                   0\n",
       "DEtall02                   0\n",
       "DEtall12                   0\n",
       "lep_flavour                0\n",
       "total_charge_2lSS          0\n",
       "max_eta                    0\n",
       "SDRll                      0\n",
       "DeltaR_max_lep             0\n",
       "DPhi_max_lep_met           0\n",
       "DeltaR_min_lep_jet         0\n",
       "minDeltaR_LJ_0             0\n",
       "minDeltaR_LJ_1             0\n",
       "minDeltaR_LJ_2             0\n",
       "Meff                       0\n",
       "Mjj_closeW                 0\n",
       "DRlb_h                     0\n",
       "ptlb_h                     0\n",
       "DeltaRLeadjets             0\n",
       "jet1pTbin                  0\n",
       "jet2pTbin                  0\n",
       "jet3pTbin                  0\n",
       "jet3etabin                 0\n",
       "jet1MV2c10_bin             0\n",
       "jet2MV2c10_bin             0\n",
       "MvisH                      0\n",
       "MvisnonH                   0\n",
       "lep_PtVarCone20Rel_1       0\n",
       "DeltaRLeadLepClosestJet    0\n",
       "                          ..\n",
       "matchDLTll13               0\n",
       "matchDLTll23               0\n",
       "best_Z_Mll                 0\n",
       "best_Z_other_Mll           0\n",
       "best_Z_other_MtLepMet      0\n",
       "nJets_OR_T                 0\n",
       "nJets_OR                   0\n",
       "nJets_OR_T_MV2c10_60       0\n",
       "nJets_OR_T_MV2c10_70       0\n",
       "nJets_OR_T_MV2c10_77       0\n",
       "nJets_OR_T_MV2c10_85       0\n",
       "nJets_OR_MV2c10_85         0\n",
       "nJets_OR_MV2c10_60         0\n",
       "nJets_OR_MV2c10_77         0\n",
       "nJets_OR_MV2c10_70         0\n",
       "nTaus_OR_Pt25              0\n",
       "isBlinded                  0\n",
       "HT                         0\n",
       "HT_lep                     0\n",
       "HT_jets                    0\n",
       "lead_jetPt                 0\n",
       "lead_jetEta                0\n",
       "lead_jetPhi                0\n",
       "lead_jetE                  0\n",
       "sublead_jetPt              0\n",
       "sublead_jetEta             0\n",
       "sublead_jetPhi             0\n",
       "sublead_jetE               0\n",
       "t_w                        0\n",
       "ltype                      0\n",
       "Length: 488, dtype: int64"
      ]
     },
     "execution_count": 448,
     "metadata": {},
     "output_type": "execute_result"
    }
   ],
   "source": [
    "Xnew.isnull().sum()"
   ]
  },
  {
   "cell_type": "code",
   "execution_count": 494,
   "metadata": {},
   "outputs": [
    {
     "data": {
      "text/plain": [
       "480"
      ]
     },
     "execution_count": 494,
     "metadata": {},
     "output_type": "execute_result"
    }
   ],
   "source": [
    "len(Xnew2.columns)"
   ]
  },
  {
   "cell_type": "code",
   "execution_count": 495,
   "metadata": {},
   "outputs": [],
   "source": [
    "c_n2= clf.fit(Xnew2, y)"
   ]
  },
  {
   "cell_type": "code",
   "execution_count": 496,
   "metadata": {},
   "outputs": [
    {
     "data": {
      "image/png": "[encoded data removed]",
      "text/plain": [
       "<Figure size 864x576 with 2 Axes>"
      ]
     },
     "metadata": {
      "needs_background": "light"
     },
     "output_type": "display_data"
    }
   ],
   "source": [
    "tree_importance_sorted_idx = np.argsort(model_n2.feature_importances_)\n",
    "tree_indices = np.arange(0, len(model_n2.feature_importances_)) + 0.5\n",
    "#tree_indices = np.arange(0, 20)\n",
    "\n",
    "\n",
    "\n",
    "fig, (ax1, ax2) = plt.subplots(1, 2, figsize=(12, 8))\n",
    "ax1.barh(tree_indices,\n",
    "         model_n2.feature_importances_[tree_importance_sorted_idx], height=0.7)\n",
    "ax1.set_yticklabels(Xnew2.columns[tree_importance_sorted_idx])\n",
    "ax1.set_yticks(tree_indices)\n",
    "ax1.set_ylim((len(clf.feature_importances_)-20,len(clf.feature_importances_)))\n",
    "fig.tight_layout()\n",
    "plt.show()"
   ]
  },
  {
   "cell_type": "code",
   "execution_count": 459,
   "metadata": {},
   "outputs": [
    {
     "data": {
      "text/plain": [
       "array([  0.5,   1.5,   2.5,   3.5,   4.5,   5.5,   6.5,   7.5,   8.5,\n",
       "         9.5,  10.5,  11.5,  12.5,  13.5,  14.5,  15.5,  16.5,  17.5,\n",
       "        18.5,  19.5,  20.5,  21.5,  22.5,  23.5,  24.5,  25.5,  26.5,\n",
       "        27.5,  28.5,  29.5,  30.5,  31.5,  32.5,  33.5,  34.5,  35.5,\n",
       "        36.5,  37.5,  38.5,  39.5,  40.5,  41.5,  42.5,  43.5,  44.5,\n",
       "        45.5,  46.5,  47.5,  48.5,  49.5,  50.5,  51.5,  52.5,  53.5,\n",
       "        54.5,  55.5,  56.5,  57.5,  58.5,  59.5,  60.5,  61.5,  62.5,\n",
       "        63.5,  64.5,  65.5,  66.5,  67.5,  68.5,  69.5,  70.5,  71.5,\n",
       "        72.5,  73.5,  74.5,  75.5,  76.5,  77.5,  78.5,  79.5,  80.5,\n",
       "        81.5,  82.5,  83.5,  84.5,  85.5,  86.5,  87.5,  88.5,  89.5,\n",
       "        90.5,  91.5,  92.5,  93.5,  94.5,  95.5,  96.5,  97.5,  98.5,\n",
       "        99.5, 100.5, 101.5, 102.5, 103.5, 104.5, 105.5, 106.5, 107.5,\n",
       "       108.5, 109.5, 110.5, 111.5, 112.5, 113.5, 114.5, 115.5, 116.5,\n",
       "       117.5, 118.5, 119.5, 120.5, 121.5, 122.5, 123.5, 124.5, 125.5,\n",
       "       126.5, 127.5, 128.5, 129.5, 130.5, 131.5, 132.5, 133.5, 134.5,\n",
       "       135.5, 136.5, 137.5, 138.5, 139.5, 140.5, 141.5, 142.5, 143.5,\n",
       "       144.5, 145.5, 146.5, 147.5, 148.5, 149.5, 150.5, 151.5, 152.5,\n",
       "       153.5, 154.5, 155.5, 156.5, 157.5, 158.5, 159.5, 160.5, 161.5,\n",
       "       162.5, 163.5, 164.5, 165.5, 166.5, 167.5, 168.5, 169.5, 170.5,\n",
       "       171.5, 172.5, 173.5, 174.5, 175.5, 176.5, 177.5, 178.5, 179.5,\n",
       "       180.5, 181.5, 182.5, 183.5, 184.5, 185.5, 186.5, 187.5, 188.5,\n",
       "       189.5, 190.5, 191.5, 192.5, 193.5, 194.5, 195.5, 196.5, 197.5,\n",
       "       198.5, 199.5, 200.5, 201.5, 202.5, 203.5, 204.5, 205.5, 206.5,\n",
       "       207.5, 208.5, 209.5, 210.5, 211.5, 212.5, 213.5, 214.5, 215.5,\n",
       "       216.5, 217.5, 218.5, 219.5, 220.5, 221.5, 222.5, 223.5, 224.5,\n",
       "       225.5, 226.5, 227.5, 228.5, 229.5, 230.5, 231.5, 232.5, 233.5,\n",
       "       234.5, 235.5, 236.5, 237.5, 238.5, 239.5, 240.5, 241.5, 242.5,\n",
       "       243.5, 244.5, 245.5, 246.5, 247.5, 248.5, 249.5, 250.5, 251.5,\n",
       "       252.5, 253.5, 254.5, 255.5, 256.5, 257.5, 258.5, 259.5, 260.5,\n",
       "       261.5, 262.5, 263.5, 264.5, 265.5, 266.5, 267.5, 268.5, 269.5,\n",
       "       270.5, 271.5, 272.5, 273.5, 274.5, 275.5, 276.5, 277.5, 278.5,\n",
       "       279.5, 280.5, 281.5, 282.5, 283.5, 284.5, 285.5, 286.5, 287.5,\n",
       "       288.5, 289.5, 290.5, 291.5, 292.5, 293.5, 294.5, 295.5, 296.5,\n",
       "       297.5, 298.5, 299.5, 300.5, 301.5, 302.5, 303.5, 304.5, 305.5,\n",
       "       306.5, 307.5, 308.5, 309.5, 310.5, 311.5, 312.5, 313.5, 314.5,\n",
       "       315.5, 316.5, 317.5, 318.5, 319.5, 320.5, 321.5, 322.5, 323.5,\n",
       "       324.5, 325.5, 326.5, 327.5, 328.5, 329.5, 330.5, 331.5, 332.5,\n",
       "       333.5, 334.5, 335.5, 336.5, 337.5, 338.5, 339.5, 340.5, 341.5,\n",
       "       342.5, 343.5, 344.5, 345.5, 346.5, 347.5, 348.5, 349.5, 350.5,\n",
       "       351.5, 352.5, 353.5, 354.5, 355.5, 356.5, 357.5, 358.5, 359.5,\n",
       "       360.5, 361.5, 362.5, 363.5, 364.5, 365.5, 366.5, 367.5, 368.5,\n",
       "       369.5, 370.5, 371.5, 372.5, 373.5, 374.5, 375.5, 376.5, 377.5,\n",
       "       378.5, 379.5, 380.5, 381.5, 382.5, 383.5, 384.5, 385.5, 386.5,\n",
       "       387.5, 388.5, 389.5, 390.5, 391.5, 392.5, 393.5, 394.5, 395.5,\n",
       "       396.5, 397.5, 398.5, 399.5, 400.5, 401.5, 402.5, 403.5, 404.5,\n",
       "       405.5, 406.5, 407.5, 408.5, 409.5, 410.5, 411.5, 412.5, 413.5,\n",
       "       414.5, 415.5, 416.5, 417.5, 418.5, 419.5, 420.5, 421.5, 422.5,\n",
       "       423.5, 424.5, 425.5, 426.5, 427.5, 428.5, 429.5, 430.5, 431.5,\n",
       "       432.5, 433.5, 434.5, 435.5, 436.5, 437.5, 438.5, 439.5, 440.5,\n",
       "       441.5, 442.5, 443.5, 444.5, 445.5, 446.5, 447.5, 448.5, 449.5,\n",
       "       450.5, 451.5, 452.5, 453.5, 454.5, 455.5, 456.5, 457.5, 458.5,\n",
       "       459.5, 460.5, 461.5, 462.5, 463.5, 464.5, 465.5, 466.5, 467.5,\n",
       "       468.5, 469.5, 470.5, 471.5, 472.5, 473.5, 474.5, 475.5, 476.5,\n",
       "       477.5, 478.5])"
      ]
     },
     "execution_count": 459,
     "metadata": {},
     "output_type": "execute_result"
    }
   ],
   "source": [
    "tree_indices"
   ]
  },
  {
   "cell_type": "code",
   "execution_count": 482,
   "metadata": {},
   "outputs": [
    {
     "data": {
      "text/plain": [
       "array([  0, 118, 119, 120, 121, 351, 350, 126, 325, 324, 130, 323, 322,\n",
       "       321, 320, 137, 319, 318, 117, 362, 371, 109, 396, 395, 393,  93,\n",
       "        94,  96,  97,  98, 317,  99, 227, 102, 103, 104, 105, 106, 107,\n",
       "       108, 100, 316, 315, 314, 168, 291, 290, 289, 288, 287, 286, 278,\n",
       "       292, 271, 269, 268, 248, 238, 236, 232, 231, 198, 270, 397, 293,\n",
       "       295, 313, 312, 311, 310, 309, 308, 307, 306, 294, 305, 303, 302,\n",
       "       301, 300, 299, 298, 297, 296, 304,  86, 101, 398,  30,  31,  32,\n",
       "        33,  34,  35,  36,  37,  38,  39,  40,  85,  42,  43,  44,  45,\n",
       "        46,  47,  48, 419,  49, 421, 428, 466,   5,   6, 454, 452, 451,\n",
       "       450, 446, 445, 444, 443, 442, 441, 440, 436, 435, 434, 433, 429,\n",
       "       423,  50,  41,  52, 414, 413, 412, 411, 410, 409, 408,  51, 406,\n",
       "       405,  76, 404, 403, 402, 401, 400, 399, 415, 416, 407, 208,  54,\n",
       "        53,  56,  57,  58,  59,  60,  55, 418,  61, 417, 327, 230, 459,\n",
       "       378, 233, 189, 394, 190, 369, 188, 240, 353, 275, 228, 135, 138,\n",
       "       374, 229, 328,  89, 422, 199, 273, 345, 355, 192, 274, 193, 463,\n",
       "       370, 448, 136,  80, 166, 458, 462, 187, 239, 375, 354,  95, 226,\n",
       "       464, 246, 338, 280, 200, 373, 196, 447, 384,  72, 449, 365, 377,\n",
       "       279, 266, 267, 352, 186,  22, 332, 235, 329, 341, 219, 368,  90,\n",
       "       326, 461, 191, 467, 195, 342, 194, 331, 376, 367, 361, 344, 339,\n",
       "       420, 253, 347, 276, 167, 330,  24, 348, 237, 197, 140,  75, 277,\n",
       "       465, 358, 203, 139, 363, 141, 333, 177, 346, 372, 343, 349, 282,\n",
       "        12, 391, 387,  92, 247, 356, 456, 243,  79, 390, 179, 206, 125,\n",
       "       242, 272, 218, 392, 241, 364, 427, 212, 258, 379, 234, 359,  16,\n",
       "       389, 116,  26, 217, 470, 383, 284, 457, 385, 214, 425, 259, 129,\n",
       "       366, 386,  25, 257,  91,  17, 127, 336, 245,  71, 124, 164, 128,\n",
       "       213, 144, 337, 281, 468, 207, 460, 146, 201, 381, 178, 469, 174,\n",
       "       147,  74,  88,   7, 202, 424, 155, 430, 244, 175, 471, 340, 157,\n",
       "       159, 438,  81, 215,  67,  82, 132, 210, 249, 169, 131, 285, 437,\n",
       "        21, 150, 432, 223, 158,  18, 252,   2, 162,   9, 134,  11, 476,\n",
       "        20, 171, 173, 477,  15,  63,  23, 183, 360, 216, 222, 204, 475,\n",
       "        69,  65, 256, 148, 263, 283, 163, 182,  78, 170, 142,  62, 176,\n",
       "       478, 335, 114, 382,  28, 156,  68,  77, 260, 380, 154, 111, 439,\n",
       "       455, 145, 112, 209, 472,  83, 151, 161, 160, 431,  14,   3,  13,\n",
       "        64, 133, 153, 220,  87, 211, 185, 357, 172, 388,  27, 426, 110,\n",
       "       115, 262, 143, 149, 453, 225, 250,  70, 205, 181, 474, 334, 221,\n",
       "       254, 180,  73, 255,   1, 113,  29, 165, 152,  66,  10,  84,  19,\n",
       "       261, 265, 473,   8,   4, 251, 122, 224, 264, 184, 123])"
      ]
     },
     "execution_count": 482,
     "metadata": {},
     "output_type": "execute_result"
    }
   ],
   "source": [
    "\n",
    "tree_importance_sorted_idx[]"
   ]
  },
  {
   "cell_type": "code",
   "execution_count": 478,
   "metadata": {},
   "outputs": [
    {
     "name": "stdout",
     "output_type": "stream",
     "text": [
      "123 0.044618419080834464\n",
      "124 0.2901410119340837\n",
      "185 0.1905874618122115\n",
      "225 0.16683657846090216\n",
      "265 0.183979681465354\n"
     ]
    }
   ],
   "source": [
    "j=0\n",
    "for i in clf.feature_importances_:\n",
    "    j+=1\n",
    "    if i >0.01:\n",
    "        print(j,i)"
   ]
  },
  {
   "cell_type": "code",
   "execution_count": 466,
   "metadata": {},
   "outputs": [
    {
     "data": {
      "text/plain": [
       "Index(['isGNv02', 'minOSMll', 'DEtall01', 'DEtall02', 'DEtall12',\n",
       "       'lep_flavour', 'total_charge_2lSS', 'max_eta', 'SDRll',\n",
       "       'DeltaR_max_lep',\n",
       "       ...\n",
       "       'HT_lep', 'HT_jets', 'lead_jetPt', 'lead_jetEta', 'lead_jetPhi',\n",
       "       'lead_jetE', 'sublead_jetPt', 'sublead_jetEta', 'sublead_jetPhi',\n",
       "       'sublead_jetE'],\n",
       "      dtype='object', length=479)"
      ]
     },
     "execution_count": 466,
     "metadata": {},
     "output_type": "execute_result"
    }
   ],
   "source": [
    "X_noTr.columns"
   ]
  },
  {
   "cell_type": "code",
   "execution_count": 473,
   "metadata": {},
   "outputs": [
    {
     "data": {
      "text/plain": [
       "array([0.        , 0.0009335 , 0.00057016, 0.0007321 , 0.00130519,\n",
       "       0.        , 0.        , 0.00044458, 0.00124421, 0.00057138])"
      ]
     },
     "execution_count": 473,
     "metadata": {},
     "output_type": "execute_result"
    }
   ],
   "source": [
    "clf.feature_importances_[:10]"
   ]
  },
  {
   "cell_type": "code",
   "execution_count": 476,
   "metadata": {},
   "outputs": [
    {
     "data": {
      "text/plain": [
       "array([  0, 430, 431, 432, 433, 434, 435, 436, 437, 438])"
      ]
     },
     "execution_count": 476,
     "metadata": {},
     "output_type": "execute_result"
    }
   ],
   "source": [
    "tree_importance_sorted_idx_short[:10]"
   ]
  },
  {
   "cell_type": "code",
   "execution_count": null,
   "metadata": {},
   "outputs": [],
   "source": []
  }
 ],
 "metadata": {
  "kernelspec": {
   "display_name": "Python 3",
   "language": "python",
   "name": "python3"
  },
  "language_info": {
   "codemirror_mode": {
    "name": "ipython",
    "version": 3
   },
   "file_extension": ".py",
   "mimetype": "text/x-python",
   "name": "python",
   "nbconvert_exporter": "python",
   "pygments_lexer": "ipython3",
   "version": "3.6.7"
  }
 },
 "nbformat": 4,
 "nbformat_minor": 2
}
