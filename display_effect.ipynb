{
 "cells": [
  {
   "cell_type": "code",
   "execution_count": 1,
   "metadata": {},
   "outputs": [],
   "source": [
    "import pandas\n",
    "import matplotlib.pyplot as plt\n",
    "import numpy as np"
   ]
  },
  {
   "cell_type": "code",
   "execution_count": 2,
   "metadata": {},
   "outputs": [],
   "source": [
    "data=pandas.read_csv('Files/class_data.csv')\n",
    "data['label']='data'\n",
    "data['t_w']=1\n",
    "data['ltype']=1"
   ]
  },
  {
   "cell_type": "code",
   "execution_count": 3,
   "metadata": {},
   "outputs": [],
   "source": [
    "def weight_df(df):    \n",
    "    df['lumiscale'] = df.RunYear.apply(\n",
    "               lambda x: (36074.6 if (x == 2015 or x == 2016) else 43813.7))\n",
    "    weights = df.lumiscale*df.pileupEventWeight_090*df.scale_nom*df.JVT_EventWeight*df.MV2c10_70_EventWeight*df.lepSFObjTight*df.lepSFTrigTight*df.SherpaNJetWeight\n",
    "    return weights\n"
   ]
  },
  {
   "cell_type": "code",
   "execution_count": 4,
   "metadata": {},
   "outputs": [],
   "source": [
    "#load MC samples:\n",
    "def mc_load(labels_list):\n",
    "    mc_list=[]\n",
    "    for i in labels_list:\n",
    "        name='Files/class_mc_'+i+'.csv'\n",
    "        df=pandas.read_csv(name)\n",
    "        df['label'] = i\n",
    "        if i == 'fakes':\n",
    "            df['t_w'] = 1\n",
    "        else:\n",
    "            df['t_w'] = weight_df(df)\n",
    "        df['ltype']=0\n",
    "        mc_list.append(df)\n",
    "        \n",
    "    mc_df = pandas.concat(mc_list,sort=False)\n",
    "    return mc_df"
   ]
  },
  {
   "cell_type": "code",
   "execution_count": 5,
   "metadata": {},
   "outputs": [],
   "source": [
    "def plot_stack_var(df_data,df_bkg,lab_list,var,GeV):\n",
    "    stack_var=[]\n",
    "    stack_var_w=[]\n",
    "    stack_var_leg=[]    \n",
    "    for i in lab_list:\n",
    "        stack_var.append(df_bkg[var].loc[df_bkg.label==i]*GeV)\n",
    "        stack_var_w.append(df_bkg.t_w.loc[df_bkg.label==i])\n",
    "        stack_var_leg.append(i)\n",
    "\n",
    "    plt.hist( stack_var, binning[var], histtype='step',\n",
    "         weights=stack_var_w,\n",
    "         label=stack_var_leg,\n",
    "         stacked=True, \n",
    "         fill=True, \n",
    "         linewidth=2, alpha=0.8)\n",
    "    plt.hist(df_data[var]*GeV, binning[var], histtype='step',\n",
    "         label=[\"data\"],\n",
    "         stacked=False, \n",
    "         fill=False, \n",
    "         color='k',\n",
    "         linewidth=2, alpha=0.8)\n",
    "    plt.xlabel(var,fontsize=12)\n",
    "    plt.ylabel('# Events',fontsize=12) \n",
    "    plt.legend()   "
   ]
  },
  {
   "cell_type": "code",
   "execution_count": 6,
   "metadata": {},
   "outputs": [],
   "source": [
    "# (best_Z_Mll>0) && abs(lep_ID_0)==abs(lep_ID_1) ) \n",
    "#apply additional selections\n",
    "def apply_3l_Zveto_SF_cuts(df):\n",
    "    df1=df.loc[abs(df.lep_ID_0)==abs(df.lep_ID_1)]\n",
    "    df2=df1.loc[df1.best_Z_Mll>0]    \n",
    "    return df2"
   ]
  },
  {
   "cell_type": "code",
   "execution_count": 7,
   "metadata": {},
   "outputs": [],
   "source": [
    "scale_to_GeV=0.001\n",
    "binning = {\"DRll01\": np.linspace(-2, 6, 24),\n",
    "           \"max_eta\": np.linspace(0, 2.5, 26),\n",
    "           \"Mll01\": np.linspace(0, 200, 25),\n",
    "          }\n",
    "var='Mll01'"
   ]
  },
  {
   "cell_type": "code",
   "execution_count": 8,
   "metadata": {},
   "outputs": [],
   "source": [
    "labels_list=['ttZ','ttW','ttH','VV','fakes','Others']"
   ]
  },
  {
   "cell_type": "code",
   "execution_count": 9,
   "metadata": {},
   "outputs": [],
   "source": [
    "bkg_set=mc_load(labels_list)"
   ]
  },
  {
   "cell_type": "code",
   "execution_count": 10,
   "metadata": {},
   "outputs": [],
   "source": [
    "data_sel=apply_3l_Zveto_SF_cuts(data)\n",
    "bkg_set_sel=apply_3l_Zveto_SF_cuts(bkg_set)"
   ]
  },
  {
   "cell_type": "code",
   "execution_count": 11,
   "metadata": {},
   "outputs": [
    {
     "data": {
      "image/png": "[encoded data removed]",
      "text/plain": [
       "<Figure size 432x288 with 1 Axes>"
      ]
     },
     "metadata": {
      "needs_background": "light"
     },
     "output_type": "display_data"
    }
   ],
   "source": [
    "plot_stack_var(data_sel,bkg_set_sel,labels_list,'Mll01',0.001)"
   ]
  },
  {
   "cell_type": "code",
   "execution_count": 12,
   "metadata": {},
   "outputs": [
    {
     "data": {
      "text/plain": [
       "<matplotlib.legend.Legend at 0x11ba6e9b0>"
      ]
     },
     "execution_count": 12,
     "metadata": {},
     "output_type": "execute_result"
    },
    {
     "data": {
      "image/png": "[encoded data removed]",
      "text/plain": [
       "<Figure size 432x288 with 1 Axes>"
      ]
     },
     "metadata": {
      "needs_background": "light"
     },
     "output_type": "display_data"
    }
   ],
   "source": [
    "plt.hist(data_sel[var]*scale_to_GeV, binning[var], histtype='step',\n",
    "         label=[\"data\"],\n",
    "         stacked=False, \n",
    "         fill=False, \n",
    "         linewidth=2, alpha=0.8)\n",
    "plt.hist(bkg_set_sel[var]*0.001, binning[var], histtype='step',\n",
    "         label=[\"bkgs\"],\n",
    "         weights=bkg_set_sel.t_w,\n",
    "         stacked=False, \n",
    "         fill=False, \n",
    "         linewidth=2, alpha=0.8)\n",
    "plt.xlabel(var,fontsize=12)\n",
    "plt.ylabel('# Events',fontsize=12)\n",
    "#plt.yscale('log')\n",
    "plt.legend()   "
   ]
  },
  {
   "cell_type": "code",
   "execution_count": 13,
   "metadata": {},
   "outputs": [],
   "source": [
    "def split_by_Bjet(df):\n",
    "    df_1b=df.loc[df.nJets_OR_MV2c10_70==1]\n",
    "    df_2b=df.loc[df.nJets_OR_MV2c10_70>=2]    \n",
    "    return df_1b,df_2b"
   ]
  },
  {
   "cell_type": "code",
   "execution_count": 14,
   "metadata": {},
   "outputs": [],
   "source": [
    "def ovr_slot(df_d,df_b,var='Mll01',GeV=0.001,fig_size=(10, 5)):\n",
    "    f, ax = plt.subplots(figsize=fig_size)\n",
    "    ax.hist(df_d[var]*GeV, binning[var], histtype='step',\n",
    "         label=[\"data\"],\n",
    "         stacked=False, \n",
    "         fill=False, \n",
    "         linewidth=2, alpha=0.8)\n",
    "    ax.hist(df_b[var]*GeV, binning[var], histtype='step',\n",
    "         label=[\"bkgs\"],\n",
    "         weights=df_b.t_w,\n",
    "         stacked=False, \n",
    "         fill=False, \n",
    "         linewidth=2, alpha=0.8)\n",
    "    ax.set_xlabel(var,fontsize=12)\n",
    "    ax.set_ylabel('# Events',fontsize=12)    \n",
    "    ax.legend()   \n",
    "    return ax\n"
   ]
  },
  {
   "cell_type": "code",
   "execution_count": 15,
   "metadata": {},
   "outputs": [
    {
     "data": {
      "text/plain": [
       "<matplotlib.axes._subplots.AxesSubplot at 0x10c1782e8>"
      ]
     },
     "execution_count": 15,
     "metadata": {},
     "output_type": "execute_result"
    },
    {
     "data": {
      "image/png": "[encoded data removed]",
      "text/plain": [
       "<Figure size 720x360 with 1 Axes>"
      ]
     },
     "metadata": {
      "needs_background": "light"
     },
     "output_type": "display_data"
    }
   ],
   "source": [
    "ovr_slot(data_sel,bkg_set_sel)"
   ]
  },
  {
   "cell_type": "code",
   "execution_count": 16,
   "metadata": {},
   "outputs": [],
   "source": [
    "d_1, d_2 = split_by_Bjet(data_sel)"
   ]
  },
  {
   "cell_type": "code",
   "execution_count": 17,
   "metadata": {},
   "outputs": [],
   "source": [
    "b_1, b_2 = split_by_Bjet(bkg_set_sel)"
   ]
  },
  {
   "cell_type": "code",
   "execution_count": 18,
   "metadata": {},
   "outputs": [
    {
     "data": {
      "text/plain": [
       "<matplotlib.axes._subplots.AxesSubplot at 0x11830a198>"
      ]
     },
     "execution_count": 18,
     "metadata": {},
     "output_type": "execute_result"
    },
    {
     "data": {
      "image/png": "[encoded data removed]",
      "text/plain": [
       "<Figure size 720x360 with 1 Axes>"
      ]
     },
     "metadata": {
      "needs_background": "light"
     },
     "output_type": "display_data"
    }
   ],
   "source": [
    "ovr_slot(d_1,b_1)"
   ]
  },
  {
   "cell_type": "code",
   "execution_count": 19,
   "metadata": {},
   "outputs": [
    {
     "data": {
      "text/plain": [
       "<matplotlib.axes._subplots.AxesSubplot at 0x11bc4d080>"
      ]
     },
     "execution_count": 19,
     "metadata": {},
     "output_type": "execute_result"
    },
    {
     "data": {
      "image/png": "[encoded data removed]",
      "text/plain": [
       "<Figure size 720x360 with 1 Axes>"
      ]
     },
     "metadata": {
      "needs_background": "light"
     },
     "output_type": "display_data"
    }
   ],
   "source": [
    "ovr_slot(d_2,b_2)"
   ]
  },
  {
   "cell_type": "code",
   "execution_count": 20,
   "metadata": {},
   "outputs": [
    {
     "data": {
      "text/plain": [
       "1219"
      ]
     },
     "execution_count": 20,
     "metadata": {},
     "output_type": "execute_result"
    }
   ],
   "source": [
    "feature = bkg_set.columns\n",
    "feature.size"
   ]
  },
  {
   "cell_type": "code",
   "execution_count": 21,
   "metadata": {},
   "outputs": [
    {
     "data": {
      "text/plain": [
       "'entry'"
      ]
     },
     "execution_count": 21,
     "metadata": {},
     "output_type": "execute_result"
    }
   ],
   "source": [
    "feature[0]\n",
    "#.str.find('UP')"
   ]
  },
  {
   "cell_type": "code",
   "execution_count": null,
   "metadata": {},
   "outputs": [],
   "source": []
  },
  {
   "cell_type": "code",
   "execution_count": null,
   "metadata": {},
   "outputs": [],
   "source": [
    "features"
   ]
  },
  {
   "cell_type": "code",
   "execution_count": null,
   "metadata": {},
   "outputs": [],
   "source": []
  },
  {
   "cell_type": "code",
   "execution_count": 23,
   "metadata": {},
   "outputs": [],
   "source": [
    "def list_branch_to_remove(df,additional_vars=[]):\n",
    "    syst_list=['UP','DOWN','CRB','scale','weight','SF','Eff',\n",
    "               'forFit','HLT','tau','MV2c20','is1','is2','is3','is4',\n",
    "               'ghost','flvWtOrdr','pass','mc_channel_number','truth',\n",
    "              'isBrems','isTruth','isQMisID','isExtConv','isConv',\n",
    "              'isIntConv','isISR','ist','isFake','isLepFromPhEvent',\n",
    "               'isPrompt','top_','isW','MEphoton','jet_flavor',\n",
    "              'pileupEventWeight_090','JVT_EventWeight','SherpaNJetWeight','mcWeightOrg','EventWeight',\n",
    "              'isPrompt','isV','higgs','Clas','bcid','lbn','EventNumber','entry','RunNumber']\n",
    "    \n",
    "    syst_list=syst_list+additional_vars\n",
    "    matches_syst=[]\n",
    "    features = list(df.columns.values)\n",
    "    for x in features:\n",
    "        for j in syst_list:\n",
    "            if j in x:\n",
    "                matches_syst.append(x.strip())\n",
    "    return matches_syst\n"
   ]
  },
  {
   "cell_type": "code",
   "execution_count": 24,
   "metadata": {},
   "outputs": [],
   "source": [
    "data_sel_trim = data_sel.drop(list_branch_to_remove(data_sel),axis=1)"
   ]
  },
  {
   "cell_type": "code",
   "execution_count": 25,
   "metadata": {},
   "outputs": [],
   "source": [
    "bkg_set_sel_trim = bkg_set_sel.drop(list_branch_to_remove(bkg_set_sel),axis=1)"
   ]
  },
  {
   "cell_type": "code",
   "execution_count": 27,
   "metadata": {},
   "outputs": [],
   "source": [
    "def unify_branches(df_1,df_2):\n",
    "    s1 = set(df_1.columns)\n",
    "    list_diff12 = [x for x in df_2.columns if x not in s1]\n",
    "    df_2m = df_2.drop(list_diff12,axis=1)\n",
    "\n",
    "    s2 = set(df_2m.columns)\n",
    "    list_diff21 = [x for x in df_1.columns if x not in s2]\n",
    "    df_1m = df_1.drop(list_diff21,axis=1)\n",
    "    #df_1m = df_1                                                                                                                                                                                                                          \n",
    "\n",
    "    #print(list_diff12,list_diff21)                                                                                                                                                                                                        \n",
    "    if set(df_1m.columns)==set(df_2m.columns):\n",
    "        print(\"All good, content is the same in both classes\\n total %s branches\" %len(df_1m.columns))\n",
    "    else:\n",
    "        print(\"WARNING: Something went wrong, double check the content\")\n",
    "\n",
    "    return df_1m,df_2m\n"
   ]
  },
  {
   "cell_type": "code",
   "execution_count": 29,
   "metadata": {},
   "outputs": [
    {
     "name": "stdout",
     "output_type": "stream",
     "text": [
      "All good, content is the same in both classes\n",
      " total 483 branches\n"
     ]
    }
   ],
   "source": [
    "data_class,bkg_class = unify_branches(data_sel_trim,bkg_set_sel_trim)"
   ]
  },
  {
   "cell_type": "code",
   "execution_count": 30,
   "metadata": {},
   "outputs": [],
   "source": [
    "\n",
    "def test_nans_float32_infs(df):\n",
    "    out_boundaries = []\n",
    "    for i in df.columns:\n",
    "        val = df[i].sum()\n",
    "        if float(val)>1e+30:\n",
    "            print(\"   --- inf or >float32:\",i,val)\n",
    "            out_boundaries.append(i)\n",
    "        elif df[i].isnull().any():\n",
    "            print(\"   --- contain nans:\", i)\n",
    "            out_boundaries.append(i)\n",
    "    if out_boundaries:\n",
    "        df.drop(out_boundaries,axis=1, inplace=True)\n",
    "\n",
    "    return df"
   ]
  },
  {
   "cell_type": "code",
   "execution_count": 31,
   "metadata": {},
   "outputs": [],
   "source": [
    "def only_unique(df):\n",
    "    list_same_val_branch = []\n",
    "    for j in df.columns:\n",
    "        i0=df[j].sample(1,random_state=0).item()\n",
    "        if all(i ==i0 for i in df[j]):\n",
    "            list_same_val_branch.append(j)\n",
    "\n",
    "    if list_same_val_branch:\n",
    "        df.drop(list_same_val_branch,axis=1, inplace=True)\n",
    "\n",
    "    return df"
   ]
  },
  {
   "cell_type": "code",
   "execution_count": 32,
   "metadata": {},
   "outputs": [],
   "source": [
    "\n",
    "def model_input(df1,df2):\n",
    "    df1['ltype'] = 1\n",
    "    df2['ltype'] = 0\n",
    "    X = pandas.concat([df1,df2], sort=True)\n",
    "    y = X['ltype']\n",
    "    X.drop(['ltype','label','t_w'],axis=1, inplace=True)\n",
    "    X=test_nans_float32_infs(X)\n",
    "    X=only_unique(X)\n",
    "    return X,y\n",
    "\n",
    "\n"
   ]
  },
  {
   "cell_type": "code",
   "execution_count": 33,
   "metadata": {},
   "outputs": [
    {
     "name": "stdout",
     "output_type": "stream",
     "text": [
      "   --- inf or >float32: averageMW 1.879187793375699e+39\n",
      "   --- contain nans: mlb_h\n"
     ]
    }
   ],
   "source": [
    "X,y=model_input(data_class,bkg_class)"
   ]
  },
  {
   "cell_type": "code",
   "execution_count": 34,
   "metadata": {},
   "outputs": [
    {
     "name": "stdout",
     "output_type": "stream",
     "text": [
      "332\n"
     ]
    }
   ],
   "source": [
    "print(len(X.columns))"
   ]
  },
  {
   "cell_type": "code",
   "execution_count": null,
   "metadata": {},
   "outputs": [],
   "source": []
  },
  {
   "cell_type": "code",
   "execution_count": 35,
   "metadata": {},
   "outputs": [],
   "source": [
    "from sklearn.ensemble import RandomForestClassifier\n",
    "from sklearn import preprocessing\n",
    "from sklearn.preprocessing import StandardScaler\n",
    "\n"
   ]
  },
  {
   "cell_type": "code",
   "execution_count": 36,
   "metadata": {},
   "outputs": [],
   "source": [
    "clf = RandomForestClassifier(n_estimators=100, random_state=42)"
   ]
  },
  {
   "cell_type": "code",
   "execution_count": 37,
   "metadata": {},
   "outputs": [],
   "source": [
    "c_n2= clf.fit(X, y)"
   ]
  },
  {
   "cell_type": "code",
   "execution_count": 39,
   "metadata": {},
   "outputs": [
    {
     "data": {
      "image/png": "[encoded data removed]",
      "text/plain": [
       "<Figure size 864x576 with 2 Axes>"
      ]
     },
     "metadata": {
      "needs_background": "light"
     },
     "output_type": "display_data"
    }
   ],
   "source": [
    "tree_importance_sorted_idx = np.flip(np.argsort(c_n2.feature_importances_))\n",
    "tree_indices = np.arange(0, len(c_n2.feature_importances_)) + 0.5\n",
    "#tree_indices = np.arange(0, 20)\n",
    "\n",
    "\n",
    "\n",
    "fig, (ax1, ax2) = plt.subplots(1, 2, figsize=(12, 8))\n",
    "ax1.barh(tree_indices,\n",
    "         c_n2.feature_importances_[tree_importance_sorted_idx], height=0.7)\n",
    "ax1.set_yticklabels(X.columns[tree_importance_sorted_idx])\n",
    "ax1.set_yticks(tree_indices)\n",
    "#ax1.set_ylim((len(clf.feature_importances_)-20,len(clf.feature_importances_)))\n",
    "ax1.set_ylim((0,20))\n",
    "fig.tight_layout()\n",
    "plt.show()"
   ]
  },
  {
   "cell_type": "code",
   "execution_count": 40,
   "metadata": {},
   "outputs": [],
   "source": [
    "lst=X.columns[tree_importance_sorted_idx][:10]"
   ]
  },
  {
   "cell_type": "code",
   "execution_count": 41,
   "metadata": {},
   "outputs": [],
   "source": [
    "lst2 = c_n2.feature_importances_[tree_importance_sorted_idx][:10]"
   ]
  },
  {
   "cell_type": "code",
   "execution_count": 42,
   "metadata": {},
   "outputs": [],
   "source": [
    "df_m2 = pandas.DataFrame(list(zip(lst, lst2)),columns =['var', 'score'])"
   ]
  },
  {
   "cell_type": "code",
   "execution_count": 43,
   "metadata": {},
   "outputs": [
    {
     "data": {
      "text/html": [
       "<div>\n",
       "<style scoped>\n",
       "    .dataframe tbody tr th:only-of-type {\n",
       "        vertical-align: middle;\n",
       "    }\n",
       "\n",
       "    .dataframe tbody tr th {\n",
       "        vertical-align: top;\n",
       "    }\n",
       "\n",
       "    .dataframe thead th {\n",
       "        text-align: right;\n",
       "    }\n",
       "</style>\n",
       "<table border=\"1\" class=\"dataframe\">\n",
       "  <thead>\n",
       "    <tr style=\"text-align: right;\">\n",
       "      <th></th>\n",
       "      <th>var</th>\n",
       "      <th>score</th>\n",
       "    </tr>\n",
       "  </thead>\n",
       "  <tbody>\n",
       "    <tr>\n",
       "      <th>0</th>\n",
       "      <td>lep_vz_0</td>\n",
       "      <td>0.240619</td>\n",
       "    </tr>\n",
       "    <tr>\n",
       "      <th>1</th>\n",
       "      <td>lep_vz_1</td>\n",
       "      <td>0.227723</td>\n",
       "    </tr>\n",
       "    <tr>\n",
       "      <th>2</th>\n",
       "      <td>m_vxp_y</td>\n",
       "      <td>0.221728</td>\n",
       "    </tr>\n",
       "    <tr>\n",
       "      <th>3</th>\n",
       "      <td>lep_vz_2</td>\n",
       "      <td>0.181220</td>\n",
       "    </tr>\n",
       "    <tr>\n",
       "      <th>4</th>\n",
       "      <td>m_vxp_x</td>\n",
       "      <td>0.042296</td>\n",
       "    </tr>\n",
       "    <tr>\n",
       "      <th>5</th>\n",
       "      <td>lead_jetPhi</td>\n",
       "      <td>0.001602</td>\n",
       "    </tr>\n",
       "    <tr>\n",
       "      <th>6</th>\n",
       "      <td>lep_deltaz0_2</td>\n",
       "      <td>0.001120</td>\n",
       "    </tr>\n",
       "    <tr>\n",
       "      <th>7</th>\n",
       "      <td>DEtall12</td>\n",
       "      <td>0.001076</td>\n",
       "    </tr>\n",
       "    <tr>\n",
       "      <th>8</th>\n",
       "      <td>lep_promptLeptonInput_PtRel_2</td>\n",
       "      <td>0.001043</td>\n",
       "    </tr>\n",
       "    <tr>\n",
       "      <th>9</th>\n",
       "      <td>min_DRlj_new</td>\n",
       "      <td>0.001039</td>\n",
       "    </tr>\n",
       "  </tbody>\n",
       "</table>\n",
       "</div>"
      ],
      "text/plain": [
       "                             var     score\n",
       "0                       lep_vz_0  0.240619\n",
       "1                       lep_vz_1  0.227723\n",
       "2                        m_vxp_y  0.221728\n",
       "3                       lep_vz_2  0.181220\n",
       "4                        m_vxp_x  0.042296\n",
       "5                    lead_jetPhi  0.001602\n",
       "6                  lep_deltaz0_2  0.001120\n",
       "7                       DEtall12  0.001076\n",
       "8  lep_promptLeptonInput_PtRel_2  0.001043\n",
       "9                   min_DRlj_new  0.001039"
      ]
     },
     "execution_count": 43,
     "metadata": {},
     "output_type": "execute_result"
    }
   ],
   "source": [
    "df_m2"
   ]
  },
  {
   "cell_type": "code",
   "execution_count": null,
   "metadata": {},
   "outputs": [],
   "source": [
    "Xnew2_s = StandardScaler().fit_transform(Xnew2) "
   ]
  },
  {
   "cell_type": "code",
   "execution_count": null,
   "metadata": {},
   "outputs": [],
   "source": [
    "Xnew2_s"
   ]
  },
  {
   "cell_type": "code",
   "execution_count": null,
   "metadata": {},
   "outputs": [],
   "source": [
    "Xnew2_sdf=pandas.DataFrame(Xnew2_s, columns = Xnew2.columns)"
   ]
  },
  {
   "cell_type": "code",
   "execution_count": null,
   "metadata": {},
   "outputs": [],
   "source": [
    "Xnew2_sdf.head()"
   ]
  },
  {
   "cell_type": "code",
   "execution_count": null,
   "metadata": {},
   "outputs": [],
   "source": [
    "Xnew2.head()"
   ]
  },
  {
   "cell_type": "code",
   "execution_count": null,
   "metadata": {},
   "outputs": [],
   "source": [
    "Xnew2['minOSMll'].sample(1,random_state=0).item()"
   ]
  },
  {
   "cell_type": "code",
   "execution_count": null,
   "metadata": {},
   "outputs": [],
   "source": [
    "list_same_val_branch = []\n",
    "for j in Xnew2.columns:\n",
    "    i0=Xnew2[j].sample(1,random_state=0).item()\n",
    "    #print(j,i0)\n",
    "    if all(i ==i0 for i in Xnew2[j]):\n",
    "        list_same_val_branch.append(j)\n",
    "    #if i!=i0:\n",
    "        "
   ]
  },
  {
   "cell_type": "code",
   "execution_count": null,
   "metadata": {},
   "outputs": [],
   "source": [
    "list_same_val_branch"
   ]
  },
  {
   "cell_type": "code",
   "execution_count": null,
   "metadata": {},
   "outputs": [],
   "source": [
    "Xnew3=Xnew2.drop(list_same_val_branch,axis=1)"
   ]
  },
  {
   "cell_type": "code",
   "execution_count": 44,
   "metadata": {},
   "outputs": [
    {
     "name": "stderr",
     "output_type": "stream",
     "text": [
      "Using TensorFlow backend.\n"
     ]
    }
   ],
   "source": [
    "import keras\n",
    "from keras.models import Sequential\n",
    "from keras.layers import Dense"
   ]
  },
  {
   "cell_type": "code",
   "execution_count": 45,
   "metadata": {},
   "outputs": [
    {
     "data": {
      "text/plain": [
       "332"
      ]
     },
     "execution_count": 45,
     "metadata": {},
     "output_type": "execute_result"
    }
   ],
   "source": [
    "dim_in=len(X.columns)\n",
    "dim_in"
   ]
  },
  {
   "cell_type": "code",
   "execution_count": 49,
   "metadata": {},
   "outputs": [],
   "source": [
    "def base_model():\n",
    "    model = Sequential()\n",
    "    model.add(Dense(200, input_dim=dim_in, kernel_initializer='normal', activation='relu'))\n",
    "    model.add(Dense(1, kernel_initializer='normal'))\n",
    "    model.compile(loss='mean_squared_error', optimizer = 'adam')\n",
    "    return model"
   ]
  },
  {
   "cell_type": "code",
   "execution_count": 50,
   "metadata": {},
   "outputs": [],
   "source": [
    "krs_model = Sequential()\n",
    "krs_model.add(Dense(units=64, activation='tanh', input_dim=dim_in))\n",
    "krs_model.add(Dense(units=1, activation='sigmoid'))\n"
   ]
  },
  {
   "cell_type": "code",
   "execution_count": 51,
   "metadata": {},
   "outputs": [],
   "source": [
    "\n",
    "krs_model.compile(\n",
    "    loss=\"binary_crossentropy\",\n",
    "    optimizer=keras.optimizers.Adam(),\n",
    "    metrics=['accuracy']\n",
    ")"
   ]
  },
  {
   "cell_type": "code",
   "execution_count": 52,
   "metadata": {},
   "outputs": [
    {
     "name": "stdout",
     "output_type": "stream",
     "text": [
      "_________________________________________________________________\n",
      "Layer (type)                 Output Shape              Param #   \n",
      "=================================================================\n",
      "dense_1 (Dense)              (None, 64)                21312     \n",
      "_________________________________________________________________\n",
      "dense_2 (Dense)              (None, 1)                 65        \n",
      "=================================================================\n",
      "Total params: 21,377\n",
      "Trainable params: 21,377\n",
      "Non-trainable params: 0\n",
      "_________________________________________________________________\n"
     ]
    }
   ],
   "source": [
    "krs_model.output_shape\n",
    "krs_model.summary()"
   ]
  },
  {
   "cell_type": "code",
   "execution_count": null,
   "metadata": {},
   "outputs": [
    {
     "name": "stdout",
     "output_type": "stream",
     "text": [
      "Epoch 1/10\n",
      "  1700/125111 [..............................] - ETA: 31s - loss: 0.2665 - acc: 0.9641"
     ]
    }
   ],
   "source": [
    "\n",
    "krs_model.fit(X, y, epochs=10, batch_size=100)"
   ]
  },
  {
   "cell_type": "code",
   "execution_count": 48,
   "metadata": {},
   "outputs": [],
   "source": [
    "from keras.wrappers.scikit_learn import KerasClassifier\n",
    "import eli5\n",
    "from eli5.sklearn import PermutationImportance\n"
   ]
  },
  {
   "cell_type": "code",
   "execution_count": null,
   "metadata": {},
   "outputs": [],
   "source": []
  }
 ],
 "metadata": {
  "kernelspec": {
   "display_name": "Python 3",
   "language": "python",
   "name": "python3"
  },
  "language_info": {
   "codemirror_mode": {
    "name": "ipython",
    "version": 3
   },
   "file_extension": ".py",
   "mimetype": "text/x-python",
   "name": "python",
   "nbconvert_exporter": "python",
   "pygments_lexer": "ipython3",
   "version": "3.6.7"
  }
 },
 "nbformat": 4,
 "nbformat_minor": 2
}
