{
 "cells": [
  {
   "cell_type": "code",
   "execution_count": 9,
   "metadata": {},
   "outputs": [],
   "source": [
    "import pandas\n",
    "import matplotlib.pyplot as plt\n",
    "import numpy as np"
   ]
  },
  {
   "cell_type": "code",
   "execution_count": 14,
   "metadata": {},
   "outputs": [],
   "source": [
    "ttZ=pandas.read_csv('Files/class_mc_ttZ.csv')"
   ]
  },
  {
   "cell_type": "code",
   "execution_count": 15,
   "metadata": {},
   "outputs": [],
   "source": [
    "data=pandas.read_csv('Files/class_data.csv')"
   ]
  },
  {
   "cell_type": "code",
   "execution_count": 139,
   "metadata": {},
   "outputs": [],
   "source": [
    "ttW=pandas.read_csv('Files/class_mc_ttW.csv')"
   ]
  },
  {
   "cell_type": "code",
   "execution_count": 132,
   "metadata": {},
   "outputs": [
    {
     "data": {
      "text/html": [
       "<div>\n",
       "<style scoped>\n",
       "    .dataframe tbody tr th:only-of-type {\n",
       "        vertical-align: middle;\n",
       "    }\n",
       "\n",
       "    .dataframe tbody tr th {\n",
       "        vertical-align: top;\n",
       "    }\n",
       "\n",
       "    .dataframe thead th {\n",
       "        text-align: right;\n",
       "    }\n",
       "</style>\n",
       "<table border=\"1\" class=\"dataframe\">\n",
       "  <thead>\n",
       "    <tr style=\"text-align: right;\">\n",
       "      <th></th>\n",
       "      <th>entry</th>\n",
       "      <th>is1L2Tau</th>\n",
       "      <th>is2L2Tau</th>\n",
       "      <th>is2LSS0Tau</th>\n",
       "      <th>pass_tight_2L</th>\n",
       "      <th>pass_SS_2L</th>\n",
       "      <th>is2LSS1Tau</th>\n",
       "      <th>is2LOS1Tau</th>\n",
       "      <th>is3L</th>\n",
       "      <th>is3L1Tau</th>\n",
       "      <th>...</th>\n",
       "      <th>lepSFObjTight</th>\n",
       "      <th>tauSFTight</th>\n",
       "      <th>tauSFLoose</th>\n",
       "      <th>tauFakeSF_weight</th>\n",
       "      <th>tauFakeSF_weight_SYST_JET_UP</th>\n",
       "      <th>tauFakeSF_weight_SYST_JET_DOWN</th>\n",
       "      <th>tauFakeSF_weight_SYST_LEP_UP</th>\n",
       "      <th>tauFakeSF_weight_SYST_LEP_DOWN</th>\n",
       "      <th>tauFakeSF_weight_STAT_UP</th>\n",
       "      <th>tauFakeSF_weight_STAT_DOWN</th>\n",
       "    </tr>\n",
       "  </thead>\n",
       "  <tbody>\n",
       "    <tr>\n",
       "      <th>0</th>\n",
       "      <td>0</td>\n",
       "      <td>False</td>\n",
       "      <td>False</td>\n",
       "      <td>False</td>\n",
       "      <td>False</td>\n",
       "      <td>False</td>\n",
       "      <td>False</td>\n",
       "      <td>False</td>\n",
       "      <td>True</td>\n",
       "      <td>False</td>\n",
       "      <td>...</td>\n",
       "      <td>0.914884</td>\n",
       "      <td>1.0</td>\n",
       "      <td>1.0</td>\n",
       "      <td>1.0</td>\n",
       "      <td>1.0</td>\n",
       "      <td>1.0</td>\n",
       "      <td>1.0</td>\n",
       "      <td>1.0</td>\n",
       "      <td>1.0</td>\n",
       "      <td>1.0</td>\n",
       "    </tr>\n",
       "    <tr>\n",
       "      <th>1</th>\n",
       "      <td>1</td>\n",
       "      <td>False</td>\n",
       "      <td>False</td>\n",
       "      <td>False</td>\n",
       "      <td>False</td>\n",
       "      <td>False</td>\n",
       "      <td>False</td>\n",
       "      <td>False</td>\n",
       "      <td>True</td>\n",
       "      <td>False</td>\n",
       "      <td>...</td>\n",
       "      <td>0.892475</td>\n",
       "      <td>1.0</td>\n",
       "      <td>1.0</td>\n",
       "      <td>1.0</td>\n",
       "      <td>1.0</td>\n",
       "      <td>1.0</td>\n",
       "      <td>1.0</td>\n",
       "      <td>1.0</td>\n",
       "      <td>1.0</td>\n",
       "      <td>1.0</td>\n",
       "    </tr>\n",
       "    <tr>\n",
       "      <th>2</th>\n",
       "      <td>2</td>\n",
       "      <td>False</td>\n",
       "      <td>False</td>\n",
       "      <td>False</td>\n",
       "      <td>False</td>\n",
       "      <td>False</td>\n",
       "      <td>False</td>\n",
       "      <td>False</td>\n",
       "      <td>True</td>\n",
       "      <td>False</td>\n",
       "      <td>...</td>\n",
       "      <td>0.949663</td>\n",
       "      <td>1.0</td>\n",
       "      <td>1.0</td>\n",
       "      <td>1.0</td>\n",
       "      <td>1.0</td>\n",
       "      <td>1.0</td>\n",
       "      <td>1.0</td>\n",
       "      <td>1.0</td>\n",
       "      <td>1.0</td>\n",
       "      <td>1.0</td>\n",
       "    </tr>\n",
       "    <tr>\n",
       "      <th>3</th>\n",
       "      <td>3</td>\n",
       "      <td>False</td>\n",
       "      <td>False</td>\n",
       "      <td>False</td>\n",
       "      <td>False</td>\n",
       "      <td>False</td>\n",
       "      <td>False</td>\n",
       "      <td>False</td>\n",
       "      <td>True</td>\n",
       "      <td>False</td>\n",
       "      <td>...</td>\n",
       "      <td>0.946399</td>\n",
       "      <td>1.0</td>\n",
       "      <td>1.0</td>\n",
       "      <td>1.0</td>\n",
       "      <td>1.0</td>\n",
       "      <td>1.0</td>\n",
       "      <td>1.0</td>\n",
       "      <td>1.0</td>\n",
       "      <td>1.0</td>\n",
       "      <td>1.0</td>\n",
       "    </tr>\n",
       "    <tr>\n",
       "      <th>4</th>\n",
       "      <td>4</td>\n",
       "      <td>False</td>\n",
       "      <td>False</td>\n",
       "      <td>False</td>\n",
       "      <td>False</td>\n",
       "      <td>False</td>\n",
       "      <td>False</td>\n",
       "      <td>False</td>\n",
       "      <td>True</td>\n",
       "      <td>False</td>\n",
       "      <td>...</td>\n",
       "      <td>0.929530</td>\n",
       "      <td>1.0</td>\n",
       "      <td>1.0</td>\n",
       "      <td>1.0</td>\n",
       "      <td>1.0</td>\n",
       "      <td>1.0</td>\n",
       "      <td>1.0</td>\n",
       "      <td>1.0</td>\n",
       "      <td>1.0</td>\n",
       "      <td>1.0</td>\n",
       "    </tr>\n",
       "  </tbody>\n",
       "</table>\n",
       "<p>5 rows × 1214 columns</p>\n",
       "</div>"
      ],
      "text/plain": [
       "   entry  is1L2Tau  is2L2Tau  is2LSS0Tau  pass_tight_2L  pass_SS_2L  \\\n",
       "0      0     False     False       False          False       False   \n",
       "1      1     False     False       False          False       False   \n",
       "2      2     False     False       False          False       False   \n",
       "3      3     False     False       False          False       False   \n",
       "4      4     False     False       False          False       False   \n",
       "\n",
       "   is2LSS1Tau  is2LOS1Tau  is3L  is3L1Tau  ...  lepSFObjTight  tauSFTight  \\\n",
       "0       False       False  True     False  ...       0.914884         1.0   \n",
       "1       False       False  True     False  ...       0.892475         1.0   \n",
       "2       False       False  True     False  ...       0.949663         1.0   \n",
       "3       False       False  True     False  ...       0.946399         1.0   \n",
       "4       False       False  True     False  ...       0.929530         1.0   \n",
       "\n",
       "   tauSFLoose  tauFakeSF_weight  tauFakeSF_weight_SYST_JET_UP  \\\n",
       "0         1.0               1.0                           1.0   \n",
       "1         1.0               1.0                           1.0   \n",
       "2         1.0               1.0                           1.0   \n",
       "3         1.0               1.0                           1.0   \n",
       "4         1.0               1.0                           1.0   \n",
       "\n",
       "   tauFakeSF_weight_SYST_JET_DOWN  tauFakeSF_weight_SYST_LEP_UP  \\\n",
       "0                             1.0                           1.0   \n",
       "1                             1.0                           1.0   \n",
       "2                             1.0                           1.0   \n",
       "3                             1.0                           1.0   \n",
       "4                             1.0                           1.0   \n",
       "\n",
       "   tauFakeSF_weight_SYST_LEP_DOWN  tauFakeSF_weight_STAT_UP  \\\n",
       "0                             1.0                       1.0   \n",
       "1                             1.0                       1.0   \n",
       "2                             1.0                       1.0   \n",
       "3                             1.0                       1.0   \n",
       "4                             1.0                       1.0   \n",
       "\n",
       "   tauFakeSF_weight_STAT_DOWN  \n",
       "0                         1.0  \n",
       "1                         1.0  \n",
       "2                         1.0  \n",
       "3                         1.0  \n",
       "4                         1.0  \n",
       "\n",
       "[5 rows x 1214 columns]"
      ]
     },
     "execution_count": 132,
     "metadata": {},
     "output_type": "execute_result"
    }
   ],
   "source": [
    "ttZ.head()"
   ]
  },
  {
   "cell_type": "code",
   "execution_count": 188,
   "metadata": {},
   "outputs": [],
   "source": [
    "def weight_df(df):    \n",
    "    df['lumiscale'] = df.RunYear.apply(\n",
    "               lambda x: (36074.6 if (x == 2015 or x == 2016) else 43813.7))\n",
    "    weights = df.lumiscale*df.pileupEventWeight_090*df.scale_nom*df.JVT_EventWeight*df.MV2c10_70_EventWeight*df.lepSFObjTight*df.lepSFTrigTight*df.SherpaNJetWeight\n",
    "    return weights\n"
   ]
  },
  {
   "cell_type": "code",
   "execution_count": 134,
   "metadata": {},
   "outputs": [],
   "source": [
    "w=weight_df(ttZ)"
   ]
  },
  {
   "cell_type": "code",
   "execution_count": 135,
   "metadata": {},
   "outputs": [],
   "source": [
    "ttZ['t_w']=w"
   ]
  },
  {
   "cell_type": "code",
   "execution_count": 140,
   "metadata": {},
   "outputs": [],
   "source": [
    "wW=weight_df(ttW)\n",
    "ttW['t_w']=wW"
   ]
  },
  {
   "cell_type": "code",
   "execution_count": 173,
   "metadata": {},
   "outputs": [
    {
     "data": {
      "text/plain": [
       "0    185.854660\n",
       "1     25.506521\n",
       "2    120.045880\n",
       "3    174.926750\n",
       "4     75.214770\n",
       "Name: Mll01, dtype: float64"
      ]
     },
     "execution_count": 173,
     "metadata": {},
     "output_type": "execute_result"
    }
   ],
   "source": [
    "ttW.Mll01.head()*0.001"
   ]
  },
  {
   "cell_type": "code",
   "execution_count": 177,
   "metadata": {},
   "outputs": [
    {
     "data": {
      "text/plain": [
       "<matplotlib.legend.Legend at 0x12ea10438>"
      ]
     },
     "execution_count": 177,
     "metadata": {},
     "output_type": "execute_result"
    },
    {
     "data": {
      "image/png": "[encoded data removed]",
      "text/plain": [
       "<Figure size 432x288 with 1 Axes>"
      ]
     },
     "metadata": {
      "needs_background": "light"
     },
     "output_type": "display_data"
    }
   ],
   "source": [
    "#hd_ttH.head()\n",
    "var='Mll01'\n",
    "scale_to_GeV=0.001\n",
    "binning = {\"DRll01\": np.linspace(-2, 6, 24),\n",
    "           \"max_eta\": np.linspace(0, 2.5, 26),\n",
    "           \"Mll01\": np.linspace(0, 200, 20)}\n",
    "plt.hist(data[var]*scale_to_GeV, binning[var], histtype='step',\n",
    "         label=[\"data\"],\n",
    "         stacked=False, \n",
    "         fill=False, \n",
    "         linewidth=2, alpha=0.8)\n",
    "\n",
    "plt.hist(ttZ[var]*scale_to_GeV, binning[var], histtype='step',\n",
    "         weights=ttZ.t_w,\n",
    "         label=[\"ttZ\"],\n",
    "         stacked=False, \n",
    "         fill=True, \n",
    "         linewidth=2, alpha=0.8)\n",
    "plt.hist(ttW[var]*scale_to_GeV, binning[var], histtype='step',\n",
    "         weights=ttW.t_w,\n",
    "         label=[\"ttW\"],\n",
    "         stacked=False,\n",
    "         fill=True, \n",
    "         linewidth=2, alpha=0.8)\n",
    "plt.xlabel(var,fontsize=12)\n",
    "plt.ylabel('# Events',fontsize=12)\n",
    "#plt.yscale('log')\n",
    "plt.legend()"
   ]
  },
  {
   "cell_type": "code",
   "execution_count": 224,
   "metadata": {},
   "outputs": [
    {
     "data": {
      "text/plain": [
       "<matplotlib.legend.Legend at 0x13038fd68>"
      ]
     },
     "execution_count": 224,
     "metadata": {},
     "output_type": "execute_result"
    },
    {
     "data": {
      "image/png": "[encoded data removed]",
      "text/plain": [
       "<Figure size 432x288 with 1 Axes>"
      ]
     },
     "metadata": {
      "needs_background": "light"
     },
     "output_type": "display_data"
    }
   ],
   "source": [
    "plt.hist(data[var]*scale_to_GeV, binning[var], histtype='step',\n",
    "         label=[\"data\"],\n",
    "         stacked=False, \n",
    "         fill=False, \n",
    "         linewidth=2, alpha=0.8)\n",
    "plt.hist([ttZ[var]*scale_to_GeV,ttW[var]*scale_to_GeV], binning[var], histtype='step',\n",
    "         weights=[ttZ.t_w,ttW.t_w],\n",
    "         label=[\"ttZ\",\"ttW\"],\n",
    "         stacked=True, \n",
    "         fill=True, \n",
    "         linewidth=2, alpha=0.8)\n",
    "plt.hist(bkg_res[var]*scale_to_GeV, binning[var], histtype='step',\n",
    "         label=[\"bkgs\"],\n",
    "         weights=bkg_res.t_w,\n",
    "         stacked=False, \n",
    "         fill=False, \n",
    "         linewidth=2, alpha=0.8)\n",
    "plt.xlabel(var,fontsize=12)\n",
    "plt.ylabel('# Events',fontsize=12)\n",
    "#plt.yscale('log')\n",
    "plt.legend()        "
   ]
  },
  {
   "cell_type": "code",
   "execution_count": 194,
   "metadata": {},
   "outputs": [],
   "source": [
    "ttZ['label']='ttZ'"
   ]
  },
  {
   "cell_type": "code",
   "execution_count": 196,
   "metadata": {},
   "outputs": [],
   "source": [
    "ttW['label']='ttW'"
   ]
  },
  {
   "cell_type": "code",
   "execution_count": 197,
   "metadata": {},
   "outputs": [],
   "source": [
    "bkgs = [ttZ,ttW]"
   ]
  },
  {
   "cell_type": "code",
   "execution_count": 200,
   "metadata": {},
   "outputs": [],
   "source": [
    "bkg_res = pandas.concat(bkgs,sort=False)"
   ]
  },
  {
   "cell_type": "code",
   "execution_count": 201,
   "metadata": {},
   "outputs": [
    {
     "data": {
      "text/html": [
       "<div>\n",
       "<style scoped>\n",
       "    .dataframe tbody tr th:only-of-type {\n",
       "        vertical-align: middle;\n",
       "    }\n",
       "\n",
       "    .dataframe tbody tr th {\n",
       "        vertical-align: top;\n",
       "    }\n",
       "\n",
       "    .dataframe thead th {\n",
       "        text-align: right;\n",
       "    }\n",
       "</style>\n",
       "<table border=\"1\" class=\"dataframe\">\n",
       "  <thead>\n",
       "    <tr style=\"text-align: right;\">\n",
       "      <th></th>\n",
       "      <th>entry</th>\n",
       "      <th>is1L2Tau</th>\n",
       "      <th>is2L2Tau</th>\n",
       "      <th>is2LSS0Tau</th>\n",
       "      <th>pass_tight_2L</th>\n",
       "      <th>pass_SS_2L</th>\n",
       "      <th>is2LSS1Tau</th>\n",
       "      <th>is2LOS1Tau</th>\n",
       "      <th>is3L</th>\n",
       "      <th>is3L1Tau</th>\n",
       "      <th>...</th>\n",
       "      <th>tauFakeSF_weight_SYST_JET_UP</th>\n",
       "      <th>tauFakeSF_weight_SYST_JET_DOWN</th>\n",
       "      <th>tauFakeSF_weight_SYST_LEP_UP</th>\n",
       "      <th>tauFakeSF_weight_SYST_LEP_DOWN</th>\n",
       "      <th>tauFakeSF_weight_STAT_UP</th>\n",
       "      <th>tauFakeSF_weight_STAT_DOWN</th>\n",
       "      <th>lumiscale</th>\n",
       "      <th>t_w</th>\n",
       "      <th>label</th>\n",
       "      <th>corrBEffSherpa</th>\n",
       "    </tr>\n",
       "  </thead>\n",
       "  <tbody>\n",
       "    <tr>\n",
       "      <th>0</th>\n",
       "      <td>0</td>\n",
       "      <td>False</td>\n",
       "      <td>False</td>\n",
       "      <td>False</td>\n",
       "      <td>False</td>\n",
       "      <td>False</td>\n",
       "      <td>False</td>\n",
       "      <td>False</td>\n",
       "      <td>True</td>\n",
       "      <td>False</td>\n",
       "      <td>...</td>\n",
       "      <td>1.0</td>\n",
       "      <td>1.0</td>\n",
       "      <td>1.0</td>\n",
       "      <td>1.0</td>\n",
       "      <td>1.0</td>\n",
       "      <td>1.0</td>\n",
       "      <td>36074.6</td>\n",
       "      <td>0.008565</td>\n",
       "      <td>ttZ</td>\n",
       "      <td>NaN</td>\n",
       "    </tr>\n",
       "    <tr>\n",
       "      <th>1</th>\n",
       "      <td>1</td>\n",
       "      <td>False</td>\n",
       "      <td>False</td>\n",
       "      <td>False</td>\n",
       "      <td>False</td>\n",
       "      <td>False</td>\n",
       "      <td>False</td>\n",
       "      <td>False</td>\n",
       "      <td>True</td>\n",
       "      <td>False</td>\n",
       "      <td>...</td>\n",
       "      <td>1.0</td>\n",
       "      <td>1.0</td>\n",
       "      <td>1.0</td>\n",
       "      <td>1.0</td>\n",
       "      <td>1.0</td>\n",
       "      <td>1.0</td>\n",
       "      <td>36074.6</td>\n",
       "      <td>0.007680</td>\n",
       "      <td>ttZ</td>\n",
       "      <td>NaN</td>\n",
       "    </tr>\n",
       "    <tr>\n",
       "      <th>2</th>\n",
       "      <td>2</td>\n",
       "      <td>False</td>\n",
       "      <td>False</td>\n",
       "      <td>False</td>\n",
       "      <td>False</td>\n",
       "      <td>False</td>\n",
       "      <td>False</td>\n",
       "      <td>False</td>\n",
       "      <td>True</td>\n",
       "      <td>False</td>\n",
       "      <td>...</td>\n",
       "      <td>1.0</td>\n",
       "      <td>1.0</td>\n",
       "      <td>1.0</td>\n",
       "      <td>1.0</td>\n",
       "      <td>1.0</td>\n",
       "      <td>1.0</td>\n",
       "      <td>43813.7</td>\n",
       "      <td>0.011837</td>\n",
       "      <td>ttZ</td>\n",
       "      <td>NaN</td>\n",
       "    </tr>\n",
       "    <tr>\n",
       "      <th>3</th>\n",
       "      <td>3</td>\n",
       "      <td>False</td>\n",
       "      <td>False</td>\n",
       "      <td>False</td>\n",
       "      <td>False</td>\n",
       "      <td>False</td>\n",
       "      <td>False</td>\n",
       "      <td>False</td>\n",
       "      <td>True</td>\n",
       "      <td>False</td>\n",
       "      <td>...</td>\n",
       "      <td>1.0</td>\n",
       "      <td>1.0</td>\n",
       "      <td>1.0</td>\n",
       "      <td>1.0</td>\n",
       "      <td>1.0</td>\n",
       "      <td>1.0</td>\n",
       "      <td>43813.7</td>\n",
       "      <td>-0.011349</td>\n",
       "      <td>ttZ</td>\n",
       "      <td>NaN</td>\n",
       "    </tr>\n",
       "    <tr>\n",
       "      <th>4</th>\n",
       "      <td>4</td>\n",
       "      <td>False</td>\n",
       "      <td>False</td>\n",
       "      <td>False</td>\n",
       "      <td>False</td>\n",
       "      <td>False</td>\n",
       "      <td>False</td>\n",
       "      <td>False</td>\n",
       "      <td>True</td>\n",
       "      <td>False</td>\n",
       "      <td>...</td>\n",
       "      <td>1.0</td>\n",
       "      <td>1.0</td>\n",
       "      <td>1.0</td>\n",
       "      <td>1.0</td>\n",
       "      <td>1.0</td>\n",
       "      <td>1.0</td>\n",
       "      <td>43813.7</td>\n",
       "      <td>0.009603</td>\n",
       "      <td>ttZ</td>\n",
       "      <td>NaN</td>\n",
       "    </tr>\n",
       "  </tbody>\n",
       "</table>\n",
       "<p>5 rows × 1218 columns</p>\n",
       "</div>"
      ],
      "text/plain": [
       "   entry  is1L2Tau  is2L2Tau  is2LSS0Tau  pass_tight_2L  pass_SS_2L  \\\n",
       "0      0     False     False       False          False       False   \n",
       "1      1     False     False       False          False       False   \n",
       "2      2     False     False       False          False       False   \n",
       "3      3     False     False       False          False       False   \n",
       "4      4     False     False       False          False       False   \n",
       "\n",
       "   is2LSS1Tau  is2LOS1Tau  is3L  is3L1Tau  ...  tauFakeSF_weight_SYST_JET_UP  \\\n",
       "0       False       False  True     False  ...                           1.0   \n",
       "1       False       False  True     False  ...                           1.0   \n",
       "2       False       False  True     False  ...                           1.0   \n",
       "3       False       False  True     False  ...                           1.0   \n",
       "4       False       False  True     False  ...                           1.0   \n",
       "\n",
       "   tauFakeSF_weight_SYST_JET_DOWN  tauFakeSF_weight_SYST_LEP_UP  \\\n",
       "0                             1.0                           1.0   \n",
       "1                             1.0                           1.0   \n",
       "2                             1.0                           1.0   \n",
       "3                             1.0                           1.0   \n",
       "4                             1.0                           1.0   \n",
       "\n",
       "   tauFakeSF_weight_SYST_LEP_DOWN  tauFakeSF_weight_STAT_UP  \\\n",
       "0                             1.0                       1.0   \n",
       "1                             1.0                       1.0   \n",
       "2                             1.0                       1.0   \n",
       "3                             1.0                       1.0   \n",
       "4                             1.0                       1.0   \n",
       "\n",
       "   tauFakeSF_weight_STAT_DOWN  lumiscale       t_w  label  corrBEffSherpa  \n",
       "0                         1.0    36074.6  0.008565    ttZ             NaN  \n",
       "1                         1.0    36074.6  0.007680    ttZ             NaN  \n",
       "2                         1.0    43813.7  0.011837    ttZ             NaN  \n",
       "3                         1.0    43813.7 -0.011349    ttZ             NaN  \n",
       "4                         1.0    43813.7  0.009603    ttZ             NaN  \n",
       "\n",
       "[5 rows x 1218 columns]"
      ]
     },
     "execution_count": 201,
     "metadata": {},
     "output_type": "execute_result"
    }
   ],
   "source": [
    "bkg_res.head()"
   ]
  },
  {
   "cell_type": "code",
   "execution_count": 220,
   "metadata": {},
   "outputs": [],
   "source": [
    "\n",
    "\n",
    "def plot_stack_var(df,labels_list,var,GeV):\n",
    "    stack_var=[]\n",
    "    stack_var_w=[]\n",
    "    stack_var_leg=[]    \n",
    "    for i in labels_list:\n",
    "        stack_var.append(df[var].loc[df.label==i]*GeV)\n",
    "        stack_var_w.append(df.t_w.loc[df.label==i])\n",
    "        stack_var_leg.append(i)\n",
    "\n",
    "    plt.hist( stack_var, binning[var], histtype='step',\n",
    "         weights=stack_var_w,\n",
    "         label=stack_var_leg,\n",
    "         stacked=True, \n",
    "         fill=True, \n",
    "         linewidth=2, alpha=0.8)\n",
    "    plt.xlabel(var,fontsize=12)\n",
    "    plt.ylabel('# Events',fontsize=12) \n",
    "    plt.legend()   "
   ]
  },
  {
   "cell_type": "code",
   "execution_count": 212,
   "metadata": {},
   "outputs": [],
   "source": [
    "labels_list=['ttZ','ttW']"
   ]
  },
  {
   "cell_type": "code",
   "execution_count": 221,
   "metadata": {},
   "outputs": [
    {
     "data": {
      "image/png": "[encoded data removed]",
      "text/plain": [
       "<Figure size 432x288 with 1 Axes>"
      ]
     },
     "metadata": {
      "needs_background": "light"
     },
     "output_type": "display_data"
    }
   ],
   "source": [
    "plot_stack_var(bkg_res,labels_list,'Mll01',0.001)"
   ]
  },
  {
   "cell_type": "code",
   "execution_count": 222,
   "metadata": {},
   "outputs": [
    {
     "data": {
      "image/png": "[encoded data removed]",
      "text/plain": [
       "<Figure size 432x288 with 1 Axes>"
      ]
     },
     "metadata": {
      "needs_background": "light"
     },
     "output_type": "display_data"
    }
   ],
   "source": [
    "plot_stack_var(bkg_res,labels_list,'DRll01',1)"
   ]
  },
  {
   "cell_type": "code",
   "execution_count": null,
   "metadata": {},
   "outputs": [],
   "source": []
  }
 ],
 "metadata": {
  "kernelspec": {
   "display_name": "Python 3",
   "language": "python",
   "name": "python3"
  },
  "language_info": {
   "codemirror_mode": {
    "name": "ipython",
    "version": 3
   },
   "file_extension": ".py",
   "mimetype": "text/x-python",
   "name": "python",
   "nbconvert_exporter": "python",
   "pygments_lexer": "ipython3",
   "version": "3.6.7"
  }
 },
 "nbformat": 4,
 "nbformat_minor": 2
}
