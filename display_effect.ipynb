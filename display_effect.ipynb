{
 "cells": [
  {
   "cell_type": "code",
   "execution_count": 9,
   "metadata": {},
   "outputs": [],
   "source": [
    "import pandas\n",
    "import matplotlib.pyplot as plt\n",
    "import numpy as np"
   ]
  },
  {
   "cell_type": "code",
   "execution_count": 14,
   "metadata": {},
   "outputs": [],
   "source": [
    "ttZ=pandas.read_csv('Files/class_mc_ttZ.csv')"
   ]
  },
  {
   "cell_type": "code",
   "execution_count": 15,
   "metadata": {},
   "outputs": [],
   "source": [
    "data=pandas.read_csv('Files/class_data.csv')"
   ]
  },
  {
   "cell_type": "code",
   "execution_count": 131,
   "metadata": {},
   "outputs": [],
   "source": [
    "#ttZ=ttZ.drop(columns=['tot_weight','new_w'])\n",
    "#ttZ=ttZ.drop(columns=['t_w','t_w2','t_w3','t_w4','t_w5'])\n",
    "ttZ=ttZ.drop(columns=['t_w1'])"
   ]
  },
  {
   "cell_type": "code",
   "execution_count": 132,
   "metadata": {},
   "outputs": [
    {
     "data": {
      "text/html": [
       "<div>\n",
       "<style scoped>\n",
       "    .dataframe tbody tr th:only-of-type {\n",
       "        vertical-align: middle;\n",
       "    }\n",
       "\n",
       "    .dataframe tbody tr th {\n",
       "        vertical-align: top;\n",
       "    }\n",
       "\n",
       "    .dataframe thead th {\n",
       "        text-align: right;\n",
       "    }\n",
       "</style>\n",
       "<table border=\"1\" class=\"dataframe\">\n",
       "  <thead>\n",
       "    <tr style=\"text-align: right;\">\n",
       "      <th></th>\n",
       "      <th>entry</th>\n",
       "      <th>is1L2Tau</th>\n",
       "      <th>is2L2Tau</th>\n",
       "      <th>is2LSS0Tau</th>\n",
       "      <th>pass_tight_2L</th>\n",
       "      <th>pass_SS_2L</th>\n",
       "      <th>is2LSS1Tau</th>\n",
       "      <th>is2LOS1Tau</th>\n",
       "      <th>is3L</th>\n",
       "      <th>is3L1Tau</th>\n",
       "      <th>...</th>\n",
       "      <th>lepSFObjTight</th>\n",
       "      <th>tauSFTight</th>\n",
       "      <th>tauSFLoose</th>\n",
       "      <th>tauFakeSF_weight</th>\n",
       "      <th>tauFakeSF_weight_SYST_JET_UP</th>\n",
       "      <th>tauFakeSF_weight_SYST_JET_DOWN</th>\n",
       "      <th>tauFakeSF_weight_SYST_LEP_UP</th>\n",
       "      <th>tauFakeSF_weight_SYST_LEP_DOWN</th>\n",
       "      <th>tauFakeSF_weight_STAT_UP</th>\n",
       "      <th>tauFakeSF_weight_STAT_DOWN</th>\n",
       "    </tr>\n",
       "  </thead>\n",
       "  <tbody>\n",
       "    <tr>\n",
       "      <th>0</th>\n",
       "      <td>0</td>\n",
       "      <td>False</td>\n",
       "      <td>False</td>\n",
       "      <td>False</td>\n",
       "      <td>False</td>\n",
       "      <td>False</td>\n",
       "      <td>False</td>\n",
       "      <td>False</td>\n",
       "      <td>True</td>\n",
       "      <td>False</td>\n",
       "      <td>...</td>\n",
       "      <td>0.914884</td>\n",
       "      <td>1.0</td>\n",
       "      <td>1.0</td>\n",
       "      <td>1.0</td>\n",
       "      <td>1.0</td>\n",
       "      <td>1.0</td>\n",
       "      <td>1.0</td>\n",
       "      <td>1.0</td>\n",
       "      <td>1.0</td>\n",
       "      <td>1.0</td>\n",
       "    </tr>\n",
       "    <tr>\n",
       "      <th>1</th>\n",
       "      <td>1</td>\n",
       "      <td>False</td>\n",
       "      <td>False</td>\n",
       "      <td>False</td>\n",
       "      <td>False</td>\n",
       "      <td>False</td>\n",
       "      <td>False</td>\n",
       "      <td>False</td>\n",
       "      <td>True</td>\n",
       "      <td>False</td>\n",
       "      <td>...</td>\n",
       "      <td>0.892475</td>\n",
       "      <td>1.0</td>\n",
       "      <td>1.0</td>\n",
       "      <td>1.0</td>\n",
       "      <td>1.0</td>\n",
       "      <td>1.0</td>\n",
       "      <td>1.0</td>\n",
       "      <td>1.0</td>\n",
       "      <td>1.0</td>\n",
       "      <td>1.0</td>\n",
       "    </tr>\n",
       "    <tr>\n",
       "      <th>2</th>\n",
       "      <td>2</td>\n",
       "      <td>False</td>\n",
       "      <td>False</td>\n",
       "      <td>False</td>\n",
       "      <td>False</td>\n",
       "      <td>False</td>\n",
       "      <td>False</td>\n",
       "      <td>False</td>\n",
       "      <td>True</td>\n",
       "      <td>False</td>\n",
       "      <td>...</td>\n",
       "      <td>0.949663</td>\n",
       "      <td>1.0</td>\n",
       "      <td>1.0</td>\n",
       "      <td>1.0</td>\n",
       "      <td>1.0</td>\n",
       "      <td>1.0</td>\n",
       "      <td>1.0</td>\n",
       "      <td>1.0</td>\n",
       "      <td>1.0</td>\n",
       "      <td>1.0</td>\n",
       "    </tr>\n",
       "    <tr>\n",
       "      <th>3</th>\n",
       "      <td>3</td>\n",
       "      <td>False</td>\n",
       "      <td>False</td>\n",
       "      <td>False</td>\n",
       "      <td>False</td>\n",
       "      <td>False</td>\n",
       "      <td>False</td>\n",
       "      <td>False</td>\n",
       "      <td>True</td>\n",
       "      <td>False</td>\n",
       "      <td>...</td>\n",
       "      <td>0.946399</td>\n",
       "      <td>1.0</td>\n",
       "      <td>1.0</td>\n",
       "      <td>1.0</td>\n",
       "      <td>1.0</td>\n",
       "      <td>1.0</td>\n",
       "      <td>1.0</td>\n",
       "      <td>1.0</td>\n",
       "      <td>1.0</td>\n",
       "      <td>1.0</td>\n",
       "    </tr>\n",
       "    <tr>\n",
       "      <th>4</th>\n",
       "      <td>4</td>\n",
       "      <td>False</td>\n",
       "      <td>False</td>\n",
       "      <td>False</td>\n",
       "      <td>False</td>\n",
       "      <td>False</td>\n",
       "      <td>False</td>\n",
       "      <td>False</td>\n",
       "      <td>True</td>\n",
       "      <td>False</td>\n",
       "      <td>...</td>\n",
       "      <td>0.929530</td>\n",
       "      <td>1.0</td>\n",
       "      <td>1.0</td>\n",
       "      <td>1.0</td>\n",
       "      <td>1.0</td>\n",
       "      <td>1.0</td>\n",
       "      <td>1.0</td>\n",
       "      <td>1.0</td>\n",
       "      <td>1.0</td>\n",
       "      <td>1.0</td>\n",
       "    </tr>\n",
       "  </tbody>\n",
       "</table>\n",
       "<p>5 rows × 1214 columns</p>\n",
       "</div>"
      ],
      "text/plain": [
       "   entry  is1L2Tau  is2L2Tau  is2LSS0Tau  pass_tight_2L  pass_SS_2L  \\\n",
       "0      0     False     False       False          False       False   \n",
       "1      1     False     False       False          False       False   \n",
       "2      2     False     False       False          False       False   \n",
       "3      3     False     False       False          False       False   \n",
       "4      4     False     False       False          False       False   \n",
       "\n",
       "   is2LSS1Tau  is2LOS1Tau  is3L  is3L1Tau  ...  lepSFObjTight  tauSFTight  \\\n",
       "0       False       False  True     False  ...       0.914884         1.0   \n",
       "1       False       False  True     False  ...       0.892475         1.0   \n",
       "2       False       False  True     False  ...       0.949663         1.0   \n",
       "3       False       False  True     False  ...       0.946399         1.0   \n",
       "4       False       False  True     False  ...       0.929530         1.0   \n",
       "\n",
       "   tauSFLoose  tauFakeSF_weight  tauFakeSF_weight_SYST_JET_UP  \\\n",
       "0         1.0               1.0                           1.0   \n",
       "1         1.0               1.0                           1.0   \n",
       "2         1.0               1.0                           1.0   \n",
       "3         1.0               1.0                           1.0   \n",
       "4         1.0               1.0                           1.0   \n",
       "\n",
       "   tauFakeSF_weight_SYST_JET_DOWN  tauFakeSF_weight_SYST_LEP_UP  \\\n",
       "0                             1.0                           1.0   \n",
       "1                             1.0                           1.0   \n",
       "2                             1.0                           1.0   \n",
       "3                             1.0                           1.0   \n",
       "4                             1.0                           1.0   \n",
       "\n",
       "   tauFakeSF_weight_SYST_LEP_DOWN  tauFakeSF_weight_STAT_UP  \\\n",
       "0                             1.0                       1.0   \n",
       "1                             1.0                       1.0   \n",
       "2                             1.0                       1.0   \n",
       "3                             1.0                       1.0   \n",
       "4                             1.0                       1.0   \n",
       "\n",
       "   tauFakeSF_weight_STAT_DOWN  \n",
       "0                         1.0  \n",
       "1                         1.0  \n",
       "2                         1.0  \n",
       "3                         1.0  \n",
       "4                         1.0  \n",
       "\n",
       "[5 rows x 1214 columns]"
      ]
     },
     "execution_count": 132,
     "metadata": {},
     "output_type": "execute_result"
    }
   ],
   "source": [
    "ttZ.head()"
   ]
  },
  {
   "cell_type": "code",
   "execution_count": 133,
   "metadata": {},
   "outputs": [],
   "source": [
    "def weight_df(df):    \n",
    "    df['lumiscale'] = df.RunYear.apply(\n",
    "               lambda x: (36074.6 if (x == 2015 or x == 2016) else 43813.7))\n",
    "    weights = df.lumiscale*df.pileupEventWeight_090*df.scale_nom*df.JVT_EventWeight*df.MV2c10_70_EventWeight*df.lepSFObjTight*df.lepSFTrigTight*df.SherpaNJetWeight\n",
    "\n",
    "    #weights=weights.where(df.RunYear == 2015) \n",
    "    #weights=weights.where((df.RunYear == 2016) & (df.RunYear == 2015),other=-2*weights) \n",
    "    return weights\n",
    "#define weights:\n",
    "#weights_list=['pileupEventWeight_090','scale_nom','JVT_EventWeight','MV2c10_70_EventWeight','lepSFObjTight','lepSFTrigTight','SherpaNJetWeight']\n",
    "#w_tot=pileupEventWeight_090[f]*scale_nom[f]*JVT_EventWeight[f]  *MV2c10_70_EventWeight[f] *lepSFObjTight[f] * lepSFTrigTight[f]* SherpaNJetWeight[f]\n",
    " #* ( 36074.6*( RunYear[f]==2015 || RunYear[f]==2016 ) + 43813.7*( RunYear[f]==2017 ) );\n"
   ]
  },
  {
   "cell_type": "code",
   "execution_count": 134,
   "metadata": {},
   "outputs": [],
   "source": [
    "w=weight_df(ttZ)"
   ]
  },
  {
   "cell_type": "code",
   "execution_count": 135,
   "metadata": {},
   "outputs": [],
   "source": [
    "ttZ['t_w']=w"
   ]
  },
  {
   "cell_type": "code",
   "execution_count": null,
   "metadata": {},
   "outputs": [],
   "source": [
    "ttZ[['RunYear','lumiscale','t_w']][:45]"
   ]
  },
  {
   "cell_type": "code",
   "execution_count": 73,
   "metadata": {},
   "outputs": [
    {
     "data": {
      "text/plain": [
       "0    2.374362e-07\n",
       "1    2.128844e-07\n",
       "2    2.701567e-07\n",
       "3   -2.590355e-07\n",
       "4    2.191766e-07\n",
       "5    3.163143e-07\n",
       "6   -3.180213e-07\n",
       "7    2.557469e-07\n",
       "8   -3.535343e-07\n",
       "9   -3.493510e-07\n",
       "dtype: float64"
      ]
     },
     "execution_count": 73,
     "metadata": {},
     "output_type": "execute_result"
    }
   ],
   "source": [
    "w1[:10]"
   ]
  },
  {
   "cell_type": "code",
   "execution_count": 74,
   "metadata": {},
   "outputs": [
    {
     "data": {
      "text/plain": [
       "0   -2.374362e-07\n",
       "1   -2.128844e-07\n",
       "2   -2.701567e-07\n",
       "3    2.590355e-07\n",
       "4   -2.191766e-07\n",
       "5   -3.163143e-07\n",
       "6    3.180213e-07\n",
       "7   -2.557469e-07\n",
       "8    3.535343e-07\n",
       "9    3.493510e-07\n",
       "dtype: float64"
      ]
     },
     "execution_count": 74,
     "metadata": {},
     "output_type": "execute_result"
    }
   ],
   "source": [
    "w2[:10]"
   ]
  },
  {
   "cell_type": "code",
   "execution_count": 63,
   "metadata": {},
   "outputs": [
    {
     "data": {
      "text/plain": [
       "<matplotlib.legend.Legend at 0x11309dc50>"
      ]
     },
     "execution_count": 63,
     "metadata": {},
     "output_type": "execute_result"
    },
    {
     "data": {
      "image/png": "[encoded data removed]",
      "text/plain": [
       "<Figure size 432x288 with 1 Axes>"
      ]
     },
     "metadata": {
      "needs_background": "light"
     },
     "output_type": "display_data"
    }
   ],
   "source": [
    "#hd_ttH.head()\n",
    "var='DRll01'\n",
    "binning = {\"DRll01\": np.linspace(-2, 6, 24),\n",
    "               \"max_eta\": np.linspace(0, 2.5, 26)}\n",
    "plt.hist(ttZ[var], binning[var], histtype='step',\n",
    "         weights=ttZ.t_w,\n",
    "         label=[\"ttZ\"],\n",
    "         stacked=False, \n",
    "         fill=False, \n",
    "         linewidth=2, alpha=0.8)\n",
    "plt.hist(data[var], binning[var], histtype='step',\n",
    "         label=[\"data\"],\n",
    "         stacked=False, \n",
    "         fill=False, \n",
    "         linewidth=2, alpha=0.8)\n",
    "plt.xlabel(var,fontsize=12)\n",
    "plt.ylabel('# Events',fontsize=12)\n",
    "#plt.yscale('log')\n",
    "plt.legend()"
   ]
  },
  {
   "cell_type": "code",
   "execution_count": null,
   "metadata": {},
   "outputs": [],
   "source": []
  }
 ],
 "metadata": {
  "kernelspec": {
   "display_name": "Python 3",
   "language": "python",
   "name": "python3"
  },
  "language_info": {
   "codemirror_mode": {
    "name": "ipython",
    "version": 3
   },
   "file_extension": ".py",
   "mimetype": "text/x-python",
   "name": "python",
   "nbconvert_exporter": "python",
   "pygments_lexer": "ipython3",
   "version": "3.6.7"
  }
 },
 "nbformat": 4,
 "nbformat_minor": 2
}
